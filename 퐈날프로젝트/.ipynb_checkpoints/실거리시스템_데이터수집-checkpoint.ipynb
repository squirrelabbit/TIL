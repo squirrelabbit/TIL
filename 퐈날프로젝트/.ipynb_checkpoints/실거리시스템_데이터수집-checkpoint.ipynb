{
 "cells": [
  {
   "cell_type": "code",
   "execution_count": 1,
   "id": "f5294714-9b44-4e4a-93e1-2a007a6b1a34",
   "metadata": {},
   "outputs": [],
   "source": [
    "import pandas as pd"
   ]
  },
  {
   "cell_type": "code",
   "execution_count": 2,
   "id": "4de9f763-9cb0-4528-b1bf-d3d583690315",
   "metadata": {},
   "outputs": [],
   "source": [
    "df = pd.read_excel('평택.xlsx')\n",
    "df = df[15:]\n",
    "col = list(df.iloc[0])\n",
    "df.columns = col\n",
    "df = df[1:]"
   ]
  },
  {
   "cell_type": "code",
   "execution_count": 53,
   "id": "8ab1d28a-bb14-493f-af3c-d9da88504475",
   "metadata": {},
   "outputs": [
    {
     "data": {
      "text/plain": [
       "(51, 15)"
      ]
     },
     "execution_count": 53,
     "metadata": {},
     "output_type": "execute_result"
    }
   ],
   "source": [
    "for i in [2020,2021]:\n",
    "    df_plus = pd.read_excel(f'새솔동_{i}_매매.xlsx')\n",
    "    df_plus = df_plus[15:]\n",
    "    col = list(df_plus.iloc[0])\n",
    "    df_plus.columns = col\n",
    "    df_plus = df_plus[1:]\n",
    "    df = df.append(df_plus)\n",
    "    \n",
    "df.shape"
   ]
  },
  {
   "cell_type": "code",
   "execution_count": 49,
   "id": "90ea027f-a30e-492f-a577-82954b68b5fa",
   "metadata": {},
   "outputs": [
    {
     "name": "stderr",
     "output_type": "stream",
     "text": [
      "d:\\miniconda3\\lib\\site-packages\\openpyxl\\styles\\stylesheet.py:226: UserWarning: Workbook contains no default style, apply openpyxl's default\n",
      "  warn(\"Workbook contains no default style, apply openpyxl's default\")\n"
     ]
    }
   ],
   "source": [
    "df_rent = pd.read_excel('새솔동_2019_전월세.xlsx')\n",
    "df_rent = df_rent[15:]\n",
    "col = list(df_rent.iloc[0])\n",
    "df_rent.columns = col\n",
    "df_rent = df_rent[1:]"
   ]
  },
  {
   "cell_type": "code",
   "execution_count": 50,
   "id": "e7ad0a4c-9d31-4133-b907-2a54a504650e",
   "metadata": {},
   "outputs": [
    {
     "data": {
      "text/plain": [
       "(71, 19)"
      ]
     },
     "execution_count": 50,
     "metadata": {},
     "output_type": "execute_result"
    }
   ],
   "source": [
    "for i in [2020,2021]:\n",
    "    df_plus = pd.read_excel(f'새솔동_{i}_전월세.xlsx')\n",
    "    df_plus = df_plus[15:]\n",
    "    col = list(df_plus.iloc[0])\n",
    "    df_plus.columns = col\n",
    "    df_plus = df_plus[1:]\n",
    "    df_rent = df_rent.append(df_plus)\n",
    "    \n",
    "df_rent.shape"
   ]
  }
 ],
 "metadata": {
  "kernelspec": {
   "display_name": "Python 3 (ipykernel)",
   "language": "python",
   "name": "python3"
  },
  "language_info": {
   "codemirror_mode": {
    "name": "ipython",
    "version": 3
   },
   "file_extension": ".py",
   "mimetype": "text/x-python",
   "name": "python",
   "nbconvert_exporter": "python",
   "pygments_lexer": "ipython3",
   "version": "3.9.7"
  }
 },
 "nbformat": 4,
 "nbformat_minor": 5
}
