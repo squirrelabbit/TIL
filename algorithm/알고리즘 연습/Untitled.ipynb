{
 "cells": [
  {
   "cell_type": "code",
   "execution_count": null,
   "id": "7c4ea816",
   "metadata": {},
   "outputs": [],
   "source": [
    "T = int(input()) # 케이스 갯수\n",
    "\n",
    "for tc in range(1, T+1): # 케이스 1~ T까지\n",
    "    NK = list(map(int, input().split()))\n",
    "    print(NK)\n",
    "    N = NK[0]  # 원소 갯수\n",
    "    K = NK[1]  # 원소 합의 값\n",
    "    print(N)\n",
    "    # 문제로직\n",
    "    \n",
    "    # 0 /\n",
    "    # 0+1 / N=1\n",
    "    # 0+2, 0+1+2 / N=2\n",
    "    # 0+3, 0+1+3, 0+2+3, 0+1+2+3 N=3\n",
    "\n",
    "    sum_list = [0] # 공집합의 합\n",
    "\n",
    "    for j in range(N): \n",
    "        for i in sum_list:\n",
    "            sum_list.append(i+N)  \n",
    "    \n",
    "    answer = sum_list\n",
    "    \n",
    "    #최종 출력 예시\n",
    "    print('#{} {}'.format(tc, answer))"
   ]
  },
  {
   "cell_type": "code",
   "execution_count": null,
   "id": "43b33579",
   "metadata": {},
   "outputs": [],
   "source": []
  }
 ],
 "metadata": {
  "kernelspec": {
   "display_name": "Python 3 (ipykernel)",
   "language": "python",
   "name": "python3"
  }
 },
 "nbformat": 4,
 "nbformat_minor": 5
}
