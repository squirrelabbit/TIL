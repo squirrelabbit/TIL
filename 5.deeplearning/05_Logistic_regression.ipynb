{
 "cells": [
  {
   "cell_type": "code",
   "execution_count": 1,
   "metadata": {},
   "outputs": [
    {
     "data": {
      "text/plain": [
       "[[2, 0], [4, 0], [6, 0], [8, 1], [10, 1], [12, 1], [14, 1]]"
      ]
     },
     "execution_count": 1,
     "metadata": {},
     "output_type": "execute_result"
    }
   ],
   "source": [
    "import numpy as np\n",
    "import pandas as pd\n",
    "import matplotlib.pyplot as plt\n",
    "\n",
    "# 공부시간 X와 성적 Y의 리스트를 만듭니다.\n",
    "data = [[2, 0], [4, 0], [6, 0], [8, 1], [10, 1], [12, 1], [14, 1]]\n",
    "\n",
    "\n",
    "x_data = [i[0] for i in data]\n",
    "y_data = [i[1] for i in data]\n",
    "\n",
    "\n",
    "\n",
    "# 그래프로 나타내 봅니다.\n",
    "plt.scatter(x_data, y_data, color='r')\n",
    "plt.xlim(0, 15)\n",
    "plt.ylim(-.1, 1.1)\n",
    "\n",
    "# 기울기 a와 절편 b의 값을 초기화 합니다.\n",
    "a = 0\n",
    "b = 0\n",
    "\n",
    "# 학습률을 정합니다.\n",
    "lr = 0.05\n",
    "\n",
    "# 시그모이드 함수를 정의합니다.\n",
    "def sigmoid(x):\n",
    "    return 1 / (1 + np.e ** (-x))\n",
    "\n",
    "# 경사 하강법을 실행합니다.\n",
    "for i in range(2001):\n",
    "    for x_data, y_data in data:\n",
    "        a_diff = x_data * (sigmoid(a*x_data + b) - y_data)\n",
    "        b_diff = sigmoid(a*x_data + b) - y_data\n",
    "        a = a - lr * a_diff\n",
    "        b = b - lr * b_diff\n",
    "        if i % 1000 == 0:    # 1000번 반복될 때마다 각 x_data값에 대한 현재의 a값, b값을 출력합니다.\n",
    "            print(\"epoch=%.f, 기울기=%.04f, 절편=%.04f\" % (i, a, b))\n",
    "\n",
    "# 앞서 구한 기울기와 절편을 이용해 그래프를 그려 봅니다.\n",
    "x_data = [i[0] for i in data]\n",
    "y_data = [i[1] for i in data]\n",
    "\n",
    "# 실제값\n",
    "plt.scatter(x_data, y_data, color='r')\n",
    "plt.xlim(0, 15)\n",
    "plt.ylim(-.1, 1.1)\n",
    "\n",
    "# 모델로 예측한 예측값\n",
    "x_range = (np.arange(0, 15, 0.1)) # 그래프로 나타낼 x값의 범위를 정합니다.\n",
    "plt.plot(np.arange(0, 15, 0.1), np.array([sigmoid(a*x + b) for x in x_range]))\n",
    "plt.show()\n",
    "\n",
    "# UPDATE\n",
    "\n",
    "# 책의 코드는 각각의 x에 대한 기울기, 절편의 변화가 epoch마다 모두 출력 되어 이를 확인하게 끔 되어 있습니다.\n",
    "# 평균값을 구해 하나의 기울기와 절편을 출력하고, 1000 epoch마다 그래프를 그리면 다음과 같습니다.  \n",
    "\n",
    "# 데이터 선언 \n",
    "x = [i[0] for i in data]\n",
    "y = [i[1] for i in data]\n",
    "x_data = np.array(x)\n",
    "y_data = np.array(y)\n",
    "\n",
    "# 위에 계산된 a와 b의 값이 다시 사용되지 않기 위해 각각 0으로 초기화 합니다.\n",
    "a = 0\n",
    "b = 0\n",
    "\n",
    "# 경사 하강법을 실행합니다.\n",
    "for i in range(2001):\n",
    "    a_diff = (1/len(x_data))*sum(x_data*(sigmoid(a*x_data + b) - y_data)) \n",
    "    b_diff = (1/len(x_data))*sum(sigmoid(a*x_data + b) - y_data)\n",
    "    a = a - lr * a_diff\n",
    "    b = b - lr * b_diff\n",
    "    \n",
    "    # 1000번 반복될 때마다 각 x_data값에 대한 현재의 a값, b값을 출력합니다.\n",
    "    if i % 1000 == 0:    \n",
    "        print(\"epoch=%.f, 기울기=%.04f, 절편=%.04f\" % (i, a, b))\n",
    "        plt.scatter(x_data, y_data)\n",
    "        plt.xlim(0, 15)\n",
    "        plt.ylim(-.1, 1.1)\n",
    "        x_range = (np.arange(0, 15, 0.1)) #그래프로 나타낼 x값의 범위를 정합니다.\n",
    "        plt.plot(np.arange(0, 15, 0.1), np.array([sigmoid(a*x + b) for x in x_range]))\n",
    "        plt.show()\n",
    "\n",
    "-> epoch이 진행될수록 sigmoid 모델의 a, b 파라미터가 업데이트되어 최적의 모델로 업데이트 되고 있다.\n",
    "\n"
   ]
  }
 ],
 "metadata": {
  "kernelspec": {
   "display_name": "Python 3 (ipykernel)",
   "language": "python",
   "name": "python3"
  },
  "language_info": {
   "codemirror_mode": {
    "name": "ipython",
    "version": 3
   },
   "file_extension": ".py",
   "mimetype": "text/x-python",
   "name": "python",
   "nbconvert_exporter": "python",
   "pygments_lexer": "ipython3",
   "version": "3.9.7"
  },
  "varInspector": {
   "cols": {
    "lenName": 16,
    "lenType": 16,
    "lenVar": 40
   },
   "kernels_config": {
    "python": {
     "delete_cmd_postfix": "",
     "delete_cmd_prefix": "del ",
     "library": "var_list.py",
     "varRefreshCmd": "print(var_dic_list())"
    },
    "r": {
     "delete_cmd_postfix": ") ",
     "delete_cmd_prefix": "rm(",
     "library": "var_list.r",
     "varRefreshCmd": "cat(var_dic_list()) "
    }
   },
   "types_to_exclude": [
    "module",
    "function",
    "builtin_function_or_method",
    "instance",
    "_Feature"
   ],
   "window_display": false
  }
 },
 "nbformat": 4,
 "nbformat_minor": 2
}
