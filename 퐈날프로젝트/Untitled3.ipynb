{
 "cells": [
  {
   "cell_type": "code",
   "execution_count": 123,
   "id": "73a16c22",
   "metadata": {},
   "outputs": [],
   "source": [
    "import pandas as pd\n",
    "import numpy as np\n",
    "import tensorflow as tf\n",
    "from tensorflow.keras.callbacks import EarlyStopping\n",
    "import matplotlib.pyplot as plt\n",
    "from sklearn.preprocessing import StandardScaler, MinMaxScaler"
   ]
  },
  {
   "cell_type": "markdown",
   "id": "14a25e72",
   "metadata": {},
   "source": [
    "Data Load"
   ]
  },
  {
   "cell_type": "code",
   "execution_count": 124,
   "id": "5f0aa4c2",
   "metadata": {},
   "outputs": [
    {
     "data": {
      "text/html": [
       "<div>\n",
       "<style scoped>\n",
       "    .dataframe tbody tr th:only-of-type {\n",
       "        vertical-align: middle;\n",
       "    }\n",
       "\n",
       "    .dataframe tbody tr th {\n",
       "        vertical-align: top;\n",
       "    }\n",
       "\n",
       "    .dataframe thead th {\n",
       "        text-align: right;\n",
       "    }\n",
       "</style>\n",
       "<table border=\"1\" class=\"dataframe\">\n",
       "  <thead>\n",
       "    <tr style=\"text-align: right;\">\n",
       "      <th>date</th>\n",
       "      <th>수원시</th>\n",
       "      <th>성남시</th>\n",
       "      <th>의정부시</th>\n",
       "      <th>안양시</th>\n",
       "      <th>부천시</th>\n",
       "      <th>광명시</th>\n",
       "      <th>평택시</th>\n",
       "      <th>동두천시</th>\n",
       "      <th>안산시</th>\n",
       "      <th>고양시</th>\n",
       "      <th>...</th>\n",
       "      <th>안성시</th>\n",
       "      <th>김포시</th>\n",
       "      <th>화성시</th>\n",
       "      <th>광주시</th>\n",
       "      <th>양주시</th>\n",
       "      <th>여주시</th>\n",
       "      <th>포천시</th>\n",
       "      <th>의왕시</th>\n",
       "      <th>오산시</th>\n",
       "      <th>cluster</th>\n",
       "    </tr>\n",
       "  </thead>\n",
       "  <tbody>\n",
       "    <tr>\n",
       "      <th>2013-01-01</th>\n",
       "      <td>63.4</td>\n",
       "      <td>67.8</td>\n",
       "      <td>77.7</td>\n",
       "      <td>60.5</td>\n",
       "      <td>68.1</td>\n",
       "      <td>53.0</td>\n",
       "      <td>92.6</td>\n",
       "      <td>92.6</td>\n",
       "      <td>66.8</td>\n",
       "      <td>69.5</td>\n",
       "      <td>...</td>\n",
       "      <td>92.6</td>\n",
       "      <td>71.1</td>\n",
       "      <td>73.0</td>\n",
       "      <td>82.4</td>\n",
       "      <td>82.0</td>\n",
       "      <td>102.8</td>\n",
       "      <td>93.6</td>\n",
       "      <td>59.7</td>\n",
       "      <td>83.2</td>\n",
       "      <td>1.0</td>\n",
       "    </tr>\n",
       "    <tr>\n",
       "      <th>2013-02-01</th>\n",
       "      <td>63.3</td>\n",
       "      <td>67.2</td>\n",
       "      <td>77.4</td>\n",
       "      <td>60.2</td>\n",
       "      <td>67.7</td>\n",
       "      <td>52.9</td>\n",
       "      <td>92.5</td>\n",
       "      <td>90.9</td>\n",
       "      <td>66.6</td>\n",
       "      <td>69.0</td>\n",
       "      <td>...</td>\n",
       "      <td>92.8</td>\n",
       "      <td>70.9</td>\n",
       "      <td>72.9</td>\n",
       "      <td>82.0</td>\n",
       "      <td>81.7</td>\n",
       "      <td>102.8</td>\n",
       "      <td>93.6</td>\n",
       "      <td>59.1</td>\n",
       "      <td>83.0</td>\n",
       "      <td>1.0</td>\n",
       "    </tr>\n",
       "    <tr>\n",
       "      <th>2013-03-01</th>\n",
       "      <td>63.2</td>\n",
       "      <td>66.9</td>\n",
       "      <td>76.9</td>\n",
       "      <td>60.0</td>\n",
       "      <td>67.4</td>\n",
       "      <td>52.6</td>\n",
       "      <td>92.4</td>\n",
       "      <td>90.1</td>\n",
       "      <td>66.3</td>\n",
       "      <td>68.6</td>\n",
       "      <td>...</td>\n",
       "      <td>92.8</td>\n",
       "      <td>70.8</td>\n",
       "      <td>72.8</td>\n",
       "      <td>81.9</td>\n",
       "      <td>81.4</td>\n",
       "      <td>102.7</td>\n",
       "      <td>93.6</td>\n",
       "      <td>58.7</td>\n",
       "      <td>82.9</td>\n",
       "      <td>1.0</td>\n",
       "    </tr>\n",
       "    <tr>\n",
       "      <th>2013-04-01</th>\n",
       "      <td>63.3</td>\n",
       "      <td>67.1</td>\n",
       "      <td>76.4</td>\n",
       "      <td>59.8</td>\n",
       "      <td>67.4</td>\n",
       "      <td>52.6</td>\n",
       "      <td>92.4</td>\n",
       "      <td>90.0</td>\n",
       "      <td>66.3</td>\n",
       "      <td>68.1</td>\n",
       "      <td>...</td>\n",
       "      <td>93.5</td>\n",
       "      <td>70.7</td>\n",
       "      <td>73.2</td>\n",
       "      <td>82.3</td>\n",
       "      <td>81.7</td>\n",
       "      <td>102.7</td>\n",
       "      <td>93.9</td>\n",
       "      <td>58.6</td>\n",
       "      <td>82.9</td>\n",
       "      <td>1.0</td>\n",
       "    </tr>\n",
       "    <tr>\n",
       "      <th>2013-05-01</th>\n",
       "      <td>63.4</td>\n",
       "      <td>67.5</td>\n",
       "      <td>76.4</td>\n",
       "      <td>59.6</td>\n",
       "      <td>67.6</td>\n",
       "      <td>52.9</td>\n",
       "      <td>92.4</td>\n",
       "      <td>89.8</td>\n",
       "      <td>66.6</td>\n",
       "      <td>68.1</td>\n",
       "      <td>...</td>\n",
       "      <td>93.8</td>\n",
       "      <td>71.0</td>\n",
       "      <td>73.6</td>\n",
       "      <td>82.3</td>\n",
       "      <td>81.9</td>\n",
       "      <td>103.6</td>\n",
       "      <td>94.7</td>\n",
       "      <td>58.8</td>\n",
       "      <td>82.9</td>\n",
       "      <td>1.0</td>\n",
       "    </tr>\n",
       "    <tr>\n",
       "      <th>...</th>\n",
       "      <td>...</td>\n",
       "      <td>...</td>\n",
       "      <td>...</td>\n",
       "      <td>...</td>\n",
       "      <td>...</td>\n",
       "      <td>...</td>\n",
       "      <td>...</td>\n",
       "      <td>...</td>\n",
       "      <td>...</td>\n",
       "      <td>...</td>\n",
       "      <td>...</td>\n",
       "      <td>...</td>\n",
       "      <td>...</td>\n",
       "      <td>...</td>\n",
       "      <td>...</td>\n",
       "      <td>...</td>\n",
       "      <td>...</td>\n",
       "      <td>...</td>\n",
       "      <td>...</td>\n",
       "      <td>...</td>\n",
       "      <td>...</td>\n",
       "    </tr>\n",
       "    <tr>\n",
       "      <th>2021-11-01</th>\n",
       "      <td>109.5</td>\n",
       "      <td>104.8</td>\n",
       "      <td>107.2</td>\n",
       "      <td>111.7</td>\n",
       "      <td>110.2</td>\n",
       "      <td>107.3</td>\n",
       "      <td>113.2</td>\n",
       "      <td>107.7</td>\n",
       "      <td>110.7</td>\n",
       "      <td>107.6</td>\n",
       "      <td>...</td>\n",
       "      <td>114.8</td>\n",
       "      <td>105.3</td>\n",
       "      <td>111.6</td>\n",
       "      <td>107.9</td>\n",
       "      <td>109.5</td>\n",
       "      <td>106.6</td>\n",
       "      <td>108.4</td>\n",
       "      <td>112.9</td>\n",
       "      <td>115.9</td>\n",
       "      <td>0.0</td>\n",
       "    </tr>\n",
       "    <tr>\n",
       "      <th>2021-12-01</th>\n",
       "      <td>109.8</td>\n",
       "      <td>105.1</td>\n",
       "      <td>107.4</td>\n",
       "      <td>112.0</td>\n",
       "      <td>110.8</td>\n",
       "      <td>107.4</td>\n",
       "      <td>114.1</td>\n",
       "      <td>107.5</td>\n",
       "      <td>111.2</td>\n",
       "      <td>108.0</td>\n",
       "      <td>...</td>\n",
       "      <td>116.1</td>\n",
       "      <td>105.6</td>\n",
       "      <td>111.6</td>\n",
       "      <td>108.4</td>\n",
       "      <td>109.8</td>\n",
       "      <td>107.2</td>\n",
       "      <td>109.0</td>\n",
       "      <td>113.0</td>\n",
       "      <td>116.7</td>\n",
       "      <td>0.0</td>\n",
       "    </tr>\n",
       "    <tr>\n",
       "      <th>2022-01-01</th>\n",
       "      <td>109.8</td>\n",
       "      <td>105.1</td>\n",
       "      <td>107.4</td>\n",
       "      <td>111.8</td>\n",
       "      <td>110.8</td>\n",
       "      <td>107.3</td>\n",
       "      <td>114.3</td>\n",
       "      <td>107.5</td>\n",
       "      <td>111.3</td>\n",
       "      <td>108.1</td>\n",
       "      <td>...</td>\n",
       "      <td>116.9</td>\n",
       "      <td>105.6</td>\n",
       "      <td>111.5</td>\n",
       "      <td>108.7</td>\n",
       "      <td>109.8</td>\n",
       "      <td>107.1</td>\n",
       "      <td>109.2</td>\n",
       "      <td>113.0</td>\n",
       "      <td>116.8</td>\n",
       "      <td>0.0</td>\n",
       "    </tr>\n",
       "    <tr>\n",
       "      <th>2022-02-01</th>\n",
       "      <td>109.6</td>\n",
       "      <td>105.0</td>\n",
       "      <td>107.3</td>\n",
       "      <td>111.6</td>\n",
       "      <td>110.7</td>\n",
       "      <td>107.3</td>\n",
       "      <td>114.3</td>\n",
       "      <td>107.4</td>\n",
       "      <td>111.3</td>\n",
       "      <td>108.0</td>\n",
       "      <td>...</td>\n",
       "      <td>117.0</td>\n",
       "      <td>105.6</td>\n",
       "      <td>111.0</td>\n",
       "      <td>108.7</td>\n",
       "      <td>109.7</td>\n",
       "      <td>107.1</td>\n",
       "      <td>109.3</td>\n",
       "      <td>112.9</td>\n",
       "      <td>116.6</td>\n",
       "      <td>0.0</td>\n",
       "    </tr>\n",
       "    <tr>\n",
       "      <th>cluster</th>\n",
       "      <td>0.0</td>\n",
       "      <td>0.0</td>\n",
       "      <td>2.0</td>\n",
       "      <td>0.0</td>\n",
       "      <td>0.0</td>\n",
       "      <td>0.0</td>\n",
       "      <td>1.0</td>\n",
       "      <td>1.0</td>\n",
       "      <td>0.0</td>\n",
       "      <td>0.0</td>\n",
       "      <td>...</td>\n",
       "      <td>1.0</td>\n",
       "      <td>0.0</td>\n",
       "      <td>0.0</td>\n",
       "      <td>2.0</td>\n",
       "      <td>2.0</td>\n",
       "      <td>1.0</td>\n",
       "      <td>1.0</td>\n",
       "      <td>0.0</td>\n",
       "      <td>2.0</td>\n",
       "      <td>2.0</td>\n",
       "    </tr>\n",
       "  </tbody>\n",
       "</table>\n",
       "<p>111 rows × 29 columns</p>\n",
       "</div>"
      ],
      "text/plain": [
       "date          수원시    성남시   의정부시    안양시    부천시    광명시    평택시   동두천시    안산시  \\\n",
       "2013-01-01   63.4   67.8   77.7   60.5   68.1   53.0   92.6   92.6   66.8   \n",
       "2013-02-01   63.3   67.2   77.4   60.2   67.7   52.9   92.5   90.9   66.6   \n",
       "2013-03-01   63.2   66.9   76.9   60.0   67.4   52.6   92.4   90.1   66.3   \n",
       "2013-04-01   63.3   67.1   76.4   59.8   67.4   52.6   92.4   90.0   66.3   \n",
       "2013-05-01   63.4   67.5   76.4   59.6   67.6   52.9   92.4   89.8   66.6   \n",
       "...           ...    ...    ...    ...    ...    ...    ...    ...    ...   \n",
       "2021-11-01  109.5  104.8  107.2  111.7  110.2  107.3  113.2  107.7  110.7   \n",
       "2021-12-01  109.8  105.1  107.4  112.0  110.8  107.4  114.1  107.5  111.2   \n",
       "2022-01-01  109.8  105.1  107.4  111.8  110.8  107.3  114.3  107.5  111.3   \n",
       "2022-02-01  109.6  105.0  107.3  111.6  110.7  107.3  114.3  107.4  111.3   \n",
       "cluster       0.0    0.0    2.0    0.0    0.0    0.0    1.0    1.0    0.0   \n",
       "\n",
       "date          고양시  ...    안성시    김포시    화성시    광주시    양주시    여주시    포천시  \\\n",
       "2013-01-01   69.5  ...   92.6   71.1   73.0   82.4   82.0  102.8   93.6   \n",
       "2013-02-01   69.0  ...   92.8   70.9   72.9   82.0   81.7  102.8   93.6   \n",
       "2013-03-01   68.6  ...   92.8   70.8   72.8   81.9   81.4  102.7   93.6   \n",
       "2013-04-01   68.1  ...   93.5   70.7   73.2   82.3   81.7  102.7   93.9   \n",
       "2013-05-01   68.1  ...   93.8   71.0   73.6   82.3   81.9  103.6   94.7   \n",
       "...           ...  ...    ...    ...    ...    ...    ...    ...    ...   \n",
       "2021-11-01  107.6  ...  114.8  105.3  111.6  107.9  109.5  106.6  108.4   \n",
       "2021-12-01  108.0  ...  116.1  105.6  111.6  108.4  109.8  107.2  109.0   \n",
       "2022-01-01  108.1  ...  116.9  105.6  111.5  108.7  109.8  107.1  109.2   \n",
       "2022-02-01  108.0  ...  117.0  105.6  111.0  108.7  109.7  107.1  109.3   \n",
       "cluster       0.0  ...    1.0    0.0    0.0    2.0    2.0    1.0    1.0   \n",
       "\n",
       "date          의왕시    오산시  cluster  \n",
       "2013-01-01   59.7   83.2      1.0  \n",
       "2013-02-01   59.1   83.0      1.0  \n",
       "2013-03-01   58.7   82.9      1.0  \n",
       "2013-04-01   58.6   82.9      1.0  \n",
       "2013-05-01   58.8   82.9      1.0  \n",
       "...           ...    ...      ...  \n",
       "2021-11-01  112.9  115.9      0.0  \n",
       "2021-12-01  113.0  116.7      0.0  \n",
       "2022-01-01  113.0  116.8      0.0  \n",
       "2022-02-01  112.9  116.6      0.0  \n",
       "cluster       0.0    2.0      2.0  \n",
       "\n",
       "[111 rows x 29 columns]"
      ]
     },
     "execution_count": 124,
     "metadata": {},
     "output_type": "execute_result"
    }
   ],
   "source": [
    "window_size = 7\n",
    "batch_size = 32\n",
    "shuffle_buffer = 60000\n",
    "\n",
    "kkd = pd.read_csv('경기도_clustered.csv',encoding = 'cp949',index_col = 0)\n",
    "kkd = kkd.T\n",
    "kkd"
   ]
  },
  {
   "cell_type": "code",
   "execution_count": 126,
   "id": "ab76c19b",
   "metadata": {},
   "outputs": [],
   "source": [
    "test = pd.read_csv('경기도변수.csv',index_col = 0)\n",
    "\n",
    "train = kkd.수원시[:-1]\n"
   ]
  },
  {
   "cell_type": "code",
   "execution_count": 127,
   "id": "2ec994e7",
   "metadata": {},
   "outputs": [],
   "source": [
    "# array 변환\n",
    "train = np.asarray(train,dtype='float32')\n",
    "test = np.asarray(train,dtype='float32')"
   ]
  },
  {
   "cell_type": "markdown",
   "id": "0286609d",
   "metadata": {},
   "source": [
    "normalizing"
   ]
  },
  {
   "cell_type": "code",
   "execution_count": 128,
   "id": "7629d228",
   "metadata": {},
   "outputs": [],
   "source": [
    "# normalization 진행\n",
    "min_scale = np.min(train)\n",
    "max_scale = np.max(train)\n",
    "train -= min_scale\n",
    "train /= max_scale"
   ]
  },
  {
   "cell_type": "code",
   "execution_count": 129,
   "id": "580a9ff5",
   "metadata": {},
   "outputs": [],
   "source": [
    "# Dataset 구성 함수\n",
    "# 1차적으로 차원증가 후 텐서슬라이스에 매개변수로 전달\n",
    "# ex)7일 + 1일 = 8일의 데이터 생성 (7일은 학습데이터, 1일은 정답데이터로 사용됨), drop_remainder 파라미터는 예측할 학습데이터가 7개가 안되면 삭제해서 진행\n",
    "# flat_map을 이용해서 flat_map을 이용해서 8개로 생성\n",
    "# shuffle을 이용해서 무작위로 섞음\n",
    "# 마지막으로 7:1 (학습7,정답1)로 매핑진행\n",
    "# 마지막으로 배치사이즈만큼 다시한번 매핑진행\n",
    "# 참고사이트 : https://teddylee777.github.io/tensorflow/dataset-batch-window\n",
    "def windowed_dataset(series, window_size, batch_size, shuffle_buffer):\n",
    "    series = tf.expand_dims(series, axis=-1)\n",
    "    ds = tf.data.Dataset.from_tensor_slices(series)\n",
    "    ds = ds.window(window_size + 1, shift=1, drop_remainder=True)\n",
    "    ds = ds.flat_map(lambda w: w.batch(window_size + 1))\n",
    "    ds = ds.shuffle(shuffle_buffer)\n",
    "    ds = ds.map(lambda w: (w[:-1], w[1:]))\n",
    "    return ds.batch(batch_size).prefetch(1)"
   ]
  },
  {
   "cell_type": "code",
   "execution_count": 130,
   "id": "4ac3cd6e",
   "metadata": {},
   "outputs": [
    {
     "data": {
      "text/plain": [
       "<PrefetchDataset element_spec=(TensorSpec(shape=(None, None, 1), dtype=tf.float32, name=None), TensorSpec(shape=(None, None, 1), dtype=tf.float32, name=None))>"
      ]
     },
     "execution_count": 130,
     "metadata": {},
     "output_type": "execute_result"
    }
   ],
   "source": [
    "# 학습용데이터로 변환\n",
    "dataset = windowed_dataset(train, window_size, batch_size, shuffle_buffer)\n",
    "dataset"
   ]
  },
  {
   "cell_type": "markdown",
   "id": "6a870cc2",
   "metadata": {},
   "source": [
    "layer Create"
   ]
  },
  {
   "cell_type": "code",
   "execution_count": 131,
   "id": "3a0c0d7b",
   "metadata": {},
   "outputs": [],
   "source": [
    "# LSTM or GRU\n",
    "# input_shape 는 [batch_size,1]만큼 들어갈 예정\n",
    "model = tf.keras.Sequential([\n",
    "    tf.keras.layers.Bidirectional(tf.keras.layers.LSTM(256,input_shape=[None,1],return_sequences=True)),\n",
    "    tf.keras.layers.BatchNormalization(),\n",
    "    tf.keras.layers.Bidirectional(tf.keras.layers.LSTM(128,return_sequences=True)),\n",
    "    tf.keras.layers.BatchNormalization(),\n",
    "    tf.keras.layers.Bidirectional(tf.keras.layers.LSTM(64)),\n",
    "    tf.keras.layers.BatchNormalization(),\n",
    "    tf.keras.layers.Dense(512,'relu'),\n",
    "    tf.keras.layers.Dense(256,'relu'),\n",
    "    tf.keras.layers.Dense(128,'relu'),\n",
    "    tf.keras.layers.Dense(1)\n",
    "])"
   ]
  },
  {
   "cell_type": "markdown",
   "id": "b2e3d4d4",
   "metadata": {},
   "source": [
    "lstm은 기본적으로 정방향으로 계산이 됩니다.\n",
    "\n",
    "역방향으로도 계산을 진행시키면 더 정확한 연산이 가능하므로 bidirectional 메서드를 감싸줍니다."
   ]
  },
  {
   "cell_type": "markdown",
   "id": "15f806ec",
   "metadata": {},
   "source": [
    "model compile"
   ]
  },
  {
   "cell_type": "code",
   "execution_count": 132,
   "id": "c6477d36",
   "metadata": {},
   "outputs": [],
   "source": [
    "# 시계열데이터라서 mse사용, optimizer는 adam으로 통일 metrics 또한 mse로 진행\n",
    "model.compile(loss='mse',optimizer='adam',metrics=['mse'])"
   ]
  },
  {
   "cell_type": "code",
   "execution_count": 133,
   "id": "aa9decae",
   "metadata": {},
   "outputs": [],
   "source": [
    "# learningrate 설정 진행, 점점 더 높아지게 설정\n",
    "# earlystopping 설정, 과적합 방지\n",
    "lr_schedule = tf.keras.callbacks.LearningRateScheduler(\n",
    "    lambda epoch: 1e-8 * 10**(epoch / 20))\n",
    "earlystop = EarlyStopping(monitor = 'loss',mode='min',patience=10)"
   ]
  },
  {
   "cell_type": "markdown",
   "id": "dea1ac33",
   "metadata": {},
   "source": [
    "model fit"
   ]
  },
  {
   "cell_type": "code",
   "execution_count": 134,
   "id": "1cb5ae4b",
   "metadata": {
    "scrolled": true
   },
   "outputs": [
    {
     "name": "stdout",
     "output_type": "stream",
     "text": [
      "Epoch 1/150\n",
      "4/4 [==============================] - 52s 193ms/step - loss: 0.0652 - mse: 0.0652 - lr: 1.0000e-08\n",
      "Epoch 2/150\n",
      "4/4 [==============================] - 1s 176ms/step - loss: 0.0857 - mse: 0.0857 - lr: 1.1220e-08\n",
      "Epoch 3/150\n",
      "4/4 [==============================] - 1s 171ms/step - loss: 0.0804 - mse: 0.0804 - lr: 1.2589e-08\n",
      "Epoch 4/150\n",
      "4/4 [==============================] - 1s 224ms/step - loss: 0.0806 - mse: 0.0806 - lr: 1.4125e-08\n",
      "Epoch 5/150\n",
      "4/4 [==============================] - 1s 162ms/step - loss: 0.0788 - mse: 0.0788 - lr: 1.5849e-08\n",
      "Epoch 6/150\n",
      "4/4 [==============================] - 1s 169ms/step - loss: 0.0797 - mse: 0.0797 - lr: 1.7783e-08\n",
      "Epoch 7/150\n",
      "4/4 [==============================] - 1s 154ms/step - loss: 0.0802 - mse: 0.0802 - lr: 1.9953e-08\n",
      "Epoch 8/150\n",
      "4/4 [==============================] - 1s 166ms/step - loss: 0.0806 - mse: 0.0806 - lr: 2.2387e-08\n",
      "Epoch 9/150\n",
      "4/4 [==============================] - 1s 164ms/step - loss: 0.0865 - mse: 0.0865 - lr: 2.5119e-08\n",
      "Epoch 10/150\n",
      "4/4 [==============================] - 1s 178ms/step - loss: 0.0748 - mse: 0.0748 - lr: 2.8184e-08\n",
      "Epoch 11/150\n",
      "4/4 [==============================] - 1s 164ms/step - loss: 0.0748 - mse: 0.0748 - lr: 3.1623e-08\n"
     ]
    }
   ],
   "source": [
    "history = model.fit(dataset,epochs=150,callbacks=[lr_schedule,earlystop])"
   ]
  },
  {
   "cell_type": "markdown",
   "id": "4ca042aa",
   "metadata": {},
   "source": [
    "model save"
   ]
  },
  {
   "cell_type": "code",
   "execution_count": 135,
   "id": "3c97cc57",
   "metadata": {},
   "outputs": [],
   "source": [
    "# Calling `save('my_model.h5')` creates a h5 file `my_model.h5`.\n",
    "model.save(\"lstm_suwon.h5\")\n",
    "\n",
    "# It can be used to reconstruct the model identically.\n",
    "lstm_model = tf.keras.models.load_model(\"lstm_suwon.h5\")"
   ]
  },
  {
   "cell_type": "markdown",
   "id": "59a33ea0",
   "metadata": {},
   "source": [
    "model predict(7일씩 데이터 입력 진행)"
   ]
  },
  {
   "cell_type": "code",
   "execution_count": 136,
   "id": "1e5c11d4",
   "metadata": {},
   "outputs": [],
   "source": [
    "# Window 사이즈 만큼 예측결과를 다시 Array로 반환\n",
    "predicts = []\n",
    "for time in range(len(train)-window_size):\n",
    "    pred = np.array(kkd[time : time + window_size])\n",
    "    pred -= min_scale\n",
    "    pred /= max_scale\n",
    "    \n",
    "    \n",
    "    pred = pred.reshape(1,-1,1)\n",
    "    \n",
    "    predict = model.predict(pred)\n",
    "    predict *= max_scale\n",
    "    predict += min_scale    \n",
    "    \n",
    "    predicts.append(predict[0][0])"
   ]
  },
  {
   "cell_type": "code",
   "execution_count": 137,
   "id": "b013c383",
   "metadata": {},
   "outputs": [
    {
     "data": {
      "text/plain": [
       "[62.07774,\n",
       " 62.08692,\n",
       " 62.095444,\n",
       " 62.099976,\n",
       " 62.098625,\n",
       " 62.099636,\n",
       " 62.10747,\n",
       " 62.11519,\n",
       " 62.11704,\n",
       " 62.108326,\n",
       " 62.103207,\n",
       " 62.098045,\n",
       " 62.091473,\n",
       " 62.085327,\n",
       " 62.080143,\n",
       " 62.08277,\n",
       " 62.086353,\n",
       " 62.089195,\n",
       " 62.092125,\n",
       " 62.093323,\n",
       " 62.08934,\n",
       " 62.090675,\n",
       " 62.09313,\n",
       " 62.097366,\n",
       " 62.10026,\n",
       " 62.09949,\n",
       " 62.098297,\n",
       " 62.09087,\n",
       " 62.085087,\n",
       " 62.076332,\n",
       " 62.06968,\n",
       " 62.062447,\n",
       " 62.053886,\n",
       " 62.0453,\n",
       " 62.038433,\n",
       " 62.036182,\n",
       " 62.036697,\n",
       " 62.038036,\n",
       " 62.039516,\n",
       " 62.041634,\n",
       " 62.042294,\n",
       " 62.039215,\n",
       " 62.035862,\n",
       " 62.033108,\n",
       " 62.031593,\n",
       " 62.02879,\n",
       " 62.02726,\n",
       " 62.02791,\n",
       " 62.03055,\n",
       " 62.032955,\n",
       " 62.03355,\n",
       " 62.03409,\n",
       " 62.032494,\n",
       " 62.02906,\n",
       " 62.025715,\n",
       " 62.020393,\n",
       " 62.018303,\n",
       " 62.01562,\n",
       " 62.01132,\n",
       " 62.00879,\n",
       " 62.005413,\n",
       " 61.998505,\n",
       " 61.99937,\n",
       " 61.99935,\n",
       " 61.999718,\n",
       " 61.999844,\n",
       " 61.999573,\n",
       " 61.99635,\n",
       " 61.97986,\n",
       " 61.967155,\n",
       " 61.961876,\n",
       " 61.960846,\n",
       " 61.96248,\n",
       " 61.964207,\n",
       " 61.968277,\n",
       " 61.976585,\n",
       " 61.985336,\n",
       " 61.993095,\n",
       " 61.99571,\n",
       " 61.99847,\n",
       " 62.007008,\n",
       " 62.0078,\n",
       " 62.003006,\n",
       " 61.99471,\n",
       " 61.995934,\n",
       " 61.99131,\n",
       " 61.97191,\n",
       " 61.956955,\n",
       " 61.954426,\n",
       " 61.948402,\n",
       " 61.933434,\n",
       " 61.924553,\n",
       " 61.909878,\n",
       " 61.89931,\n",
       " 61.887226,\n",
       " 61.881054,\n",
       " 61.86141,\n",
       " 61.812786,\n",
       " 61.78143,\n",
       " 61.747105,\n",
       " 61.704506,\n",
       " 61.6164,\n",
       " 61.55535]"
      ]
     },
     "execution_count": 137,
     "metadata": {},
     "output_type": "execute_result"
    }
   ],
   "source": [
    "predicts"
   ]
  },
  {
   "cell_type": "code",
   "execution_count": 142,
   "id": "30dbacfe",
   "metadata": {},
   "outputs": [
    {
     "data": {
      "image/png": "[encoded data removed]",
      "text/plain": [
       "<Figure size 864x576 with 1 Axes>"
      ]
     },
     "metadata": {
      "needs_background": "light"
     },
     "output_type": "display_data"
    }
   ],
   "source": [
    "plt.figure(figsize=(12,8))\n",
    "plt.plot(predicts,color='red',label='Predict')\n",
    "plt.plot(kkd.수원시[:-1],color='blue',label='Real')\n",
    "plt.legend(loc='center left')\n",
    "plt.show()"
   ]
  },
  {
   "cell_type": "markdown",
   "id": "a0ed7f9e",
   "metadata": {},
   "source": [
    "예측 함수 생성"
   ]
  },
  {
   "cell_type": "code",
   "execution_count": 149,
   "id": "bb22d041",
   "metadata": {},
   "outputs": [
    {
     "data": {
      "text/plain": [
       "[61.86141, 61.812786, 61.78143, 61.747105, 61.704506, 61.6164, 61.55535]"
      ]
     },
     "execution_count": 149,
     "metadata": {},
     "output_type": "execute_result"
    }
   ],
   "source": [
    "# 7일까지만 예측진행\n",
    "future_days = 7\n",
    "\n",
    "future_series = predicts[-window_size:]\n",
    "future_series"
   ]
  },
  {
   "cell_type": "code",
   "execution_count": 148,
   "id": "fd94b817",
   "metadata": {},
   "outputs": [
    {
     "data": {
      "text/plain": [
       "7"
      ]
     },
     "execution_count": 148,
     "metadata": {},
     "output_type": "execute_result"
    }
   ],
   "source": [
    "# 7일 예측씩 지속적으로 예측 진행\n",
    "def predict_days(future_days,future_series):\n",
    "    \n",
    "    futures = []\n",
    "    for time in range(future_days):\n",
    "        pred = np.array(future_series,dtype='float64')\n",
    "        pred -= min_scale\n",
    "        pred /= max_scale\n",
    "\n",
    "        pred = pred.reshape(1,-1,1)\n",
    "\n",
    "        predict = model.predict(pred)\n",
    "\n",
    "        predict *= max_scale\n",
    "        predict += min_scale\n",
    "\n",
    "        future_series.append(predict[0][0])\n",
    "        futures.append(predict[0][0])\n",
    "\n",
    "        future_series.pop(0)\n",
    "        \n",
    "    plt.plot(np.arange(future_days),futures)\n",
    "    plt.title('{}months'.format(future_days))\n",
    "    plt.show()\n",
    "    \n",
    "future_days"
   ]
  },
  {
   "cell_type": "code",
   "execution_count": 146,
   "id": "1240ac3e",
   "metadata": {},
   "outputs": [
    {
     "data": {
      "image/png": "[encoded data removed]",
      "text/plain": [
       "<Figure size 432x288 with 1 Axes>"
      ]
     },
     "metadata": {
      "needs_background": "light"
     },
     "output_type": "display_data"
    }
   ],
   "source": [
    "predict_days(future_days,future_series)"
   ]
  },
  {
   "cell_type": "code",
   "execution_count": null,
   "id": "f54a2644",
   "metadata": {},
   "outputs": [],
   "source": []
  },
  {
   "cell_type": "code",
   "execution_count": null,
   "id": "d24f57d7",
   "metadata": {},
   "outputs": [],
   "source": []
  }
 ],
 "metadata": {
  "kernelspec": {
   "display_name": "Python 3 (ipykernel)",
   "language": "python",
   "name": "python3"
  },
  "language_info": {
   "codemirror_mode": {
    "name": "ipython",
    "version": 3
   },
   "file_extension": ".py",
   "mimetype": "text/x-python",
   "name": "python",
   "nbconvert_exporter": "python",
   "pygments_lexer": "ipython3",
   "version": "3.9.7"
  }
 },
 "nbformat": 4,
 "nbformat_minor": 5
}
