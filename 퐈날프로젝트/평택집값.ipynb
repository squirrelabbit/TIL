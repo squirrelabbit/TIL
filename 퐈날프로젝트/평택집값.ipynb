{
 "cells": [
  {
   "cell_type": "code",
   "execution_count": 47,
   "id": "1cff8ce5",
   "metadata": {},
   "outputs": [],
   "source": [
    "import numpy as np\n",
    "import matplotlib.pyplot as plt\n",
    "import pandas as pd\n",
    "import seaborn as sns\n",
    "from scipy import stats\n",
    "import warnings  \n",
    "warnings.filterwarnings('ignore')\n",
    "from matplotlib import font_manager, rc\n",
    "import platform\n",
    "\n",
    "if platform.system() == 'Windows':\n",
    "# 윈도우인 경우\n",
    "    font_name = font_manager.FontProperties(fname=\"c:/Windows/Fonts/HMFMMUEX.ttc\").get_name()\n",
    "    rc('font', family=font_name)\n",
    "else:    \n",
    "# Mac 인 경우\n",
    "    rc('font', family='AppleGothic')\n",
    "\n",
    "%matplotlib inline"
   ]
  },
  {
   "cell_type": "code",
   "execution_count": 49,
   "id": "7de7d2bb",
   "metadata": {
    "scrolled": true
   },
   "outputs": [
    {
     "data": {
      "text/html": [
       "<div>\n",
       "<style scoped>\n",
       "    .dataframe tbody tr th:only-of-type {\n",
       "        vertical-align: middle;\n",
       "    }\n",
       "\n",
       "    .dataframe tbody tr th {\n",
       "        vertical-align: top;\n",
       "    }\n",
       "\n",
       "    .dataframe thead th {\n",
       "        text-align: right;\n",
       "    }\n",
       "</style>\n",
       "<table border=\"1\" class=\"dataframe\">\n",
       "  <thead>\n",
       "    <tr style=\"text-align: right;\">\n",
       "      <th></th>\n",
       "      <th>전용면적(㎡)</th>\n",
       "      <th>거래금액(만원)</th>\n",
       "      <th>층</th>\n",
       "      <th>건축년도</th>\n",
       "    </tr>\n",
       "    <tr>\n",
       "      <th>본번</th>\n",
       "      <th></th>\n",
       "      <th></th>\n",
       "      <th></th>\n",
       "      <th></th>\n",
       "    </tr>\n",
       "  </thead>\n",
       "  <tbody>\n",
       "    <tr>\n",
       "      <th>639</th>\n",
       "      <td>59.7550</td>\n",
       "      <td>11500</td>\n",
       "      <td>1</td>\n",
       "      <td>1999</td>\n",
       "    </tr>\n",
       "    <tr>\n",
       "      <th>639</th>\n",
       "      <td>59.7550</td>\n",
       "      <td>11500</td>\n",
       "      <td>1</td>\n",
       "      <td>1999</td>\n",
       "    </tr>\n",
       "    <tr>\n",
       "      <th>639</th>\n",
       "      <td>59.7550</td>\n",
       "      <td>11500</td>\n",
       "      <td>1</td>\n",
       "      <td>1999</td>\n",
       "    </tr>\n",
       "    <tr>\n",
       "      <th>639</th>\n",
       "      <td>59.7550</td>\n",
       "      <td>11500</td>\n",
       "      <td>1</td>\n",
       "      <td>1999</td>\n",
       "    </tr>\n",
       "    <tr>\n",
       "      <th>639</th>\n",
       "      <td>59.7550</td>\n",
       "      <td>11500</td>\n",
       "      <td>1</td>\n",
       "      <td>1999</td>\n",
       "    </tr>\n",
       "    <tr>\n",
       "      <th>...</th>\n",
       "      <td>...</td>\n",
       "      <td>...</td>\n",
       "      <td>...</td>\n",
       "      <td>...</td>\n",
       "    </tr>\n",
       "    <tr>\n",
       "      <th>870</th>\n",
       "      <td>102.1170</td>\n",
       "      <td>29000</td>\n",
       "      <td>10</td>\n",
       "      <td>1992</td>\n",
       "    </tr>\n",
       "    <tr>\n",
       "      <th>870</th>\n",
       "      <td>102.1170</td>\n",
       "      <td>29000</td>\n",
       "      <td>10</td>\n",
       "      <td>1992</td>\n",
       "    </tr>\n",
       "    <tr>\n",
       "      <th>373</th>\n",
       "      <td>59.4100</td>\n",
       "      <td>12000</td>\n",
       "      <td>3</td>\n",
       "      <td>1991</td>\n",
       "    </tr>\n",
       "    <tr>\n",
       "      <th>688</th>\n",
       "      <td>84.6339</td>\n",
       "      <td>21000</td>\n",
       "      <td>20</td>\n",
       "      <td>2005</td>\n",
       "    </tr>\n",
       "    <tr>\n",
       "      <th>413</th>\n",
       "      <td>84.0350</td>\n",
       "      <td>22500</td>\n",
       "      <td>12</td>\n",
       "      <td>1993</td>\n",
       "    </tr>\n",
       "  </tbody>\n",
       "</table>\n",
       "<p>10409 rows × 4 columns</p>\n",
       "</div>"
      ],
      "text/plain": [
       "      전용면적(㎡)  거래금액(만원)   층  건축년도\n",
       "본번                               \n",
       "639   59.7550     11500   1  1999\n",
       "639   59.7550     11500   1  1999\n",
       "639   59.7550     11500   1  1999\n",
       "639   59.7550     11500   1  1999\n",
       "639   59.7550     11500   1  1999\n",
       "..        ...       ...  ..   ...\n",
       "870  102.1170     29000  10  1992\n",
       "870  102.1170     29000  10  1992\n",
       "373   59.4100     12000   3  1991\n",
       "688   84.6339     21000  20  2005\n",
       "413   84.0350     22500  12  1993\n",
       "\n",
       "[10409 rows x 4 columns]"
      ]
     },
     "execution_count": 49,
     "metadata": {},
     "output_type": "execute_result"
    }
   ],
   "source": [
    "data = pd.read_excel('1year.xlsx')\n",
    "data_ = data.drop(['본번'],axis = 1)\n",
    "df = pd.DataFrame(data_,index = data['본번'])\n",
    "df"
   ]
  },
  {
   "cell_type": "code",
   "execution_count": 50,
   "id": "493ecb69",
   "metadata": {},
   "outputs": [
    {
     "name": "stdout",
     "output_type": "stream",
     "text": [
      "MSE : 44533632.815 , RMSE : 6673.352\n",
      "Variance score : 0.666\n"
     ]
    }
   ],
   "source": [
    "from sklearn.model_selection import train_test_split\n",
    "from sklearn.linear_model import LinearRegression\n",
    "from sklearn.metrics import mean_squared_error , r2_score\n",
    "\n",
    "# feature, target 데이터 분리\n",
    "y_target = df['거래금액(만원)']\n",
    "X_data = df.drop(['거래금액(만원)'], axis=1, inplace=False)\n",
    "\n",
    "# train, test 데이터 분리\n",
    "X_train , X_test , y_train , y_test = train_test_split(X_data , y_target ,test_size=0.3, random_state=156)\n",
    "\n",
    "# Linear Regression \n",
    "lr = LinearRegression()\n",
    "\n",
    "# 학습\n",
    "lr.fit(X_train , y_train )\n",
    "\n",
    "# 예측\n",
    "y_preds = lr.predict(X_test)\n",
    "\n",
    "# 평가\n",
    "mse = mean_squared_error(y_test, y_preds)\n",
    "rmse = np.sqrt(mse)\n",
    "\n",
    "print('MSE : {0:.3f} , RMSE : {1:.3F}'.format(mse , rmse))\n",
    "print('Variance score : {0:.3f}'.format(r2_score(y_test, y_preds)))"
   ]
  },
  {
   "cell_type": "code",
   "execution_count": 51,
   "id": "abb8876f",
   "metadata": {},
   "outputs": [
    {
     "data": {
      "text/plain": [
       "건축년도       553.8\n",
       "층          426.8\n",
       "전용면적(㎡)    234.4\n",
       "dtype: float64"
      ]
     },
     "execution_count": 51,
     "metadata": {},
     "output_type": "execute_result"
    }
   ],
   "source": [
    "# 회귀 계수를 큰 값 순으로 정렬하기 위해 Series로 생성. index가 컬럼명에 유의\n",
    "coeff = pd.Series(data=np.round(lr.coef_, 1), index=X_data.columns )\n",
    "coeff.sort_values(ascending=False)"
   ]
  },
  {
   "cell_type": "code",
   "execution_count": 52,
   "id": "deaf5c10",
   "metadata": {},
   "outputs": [
    {
     "data": {
      "text/plain": [
       "LinearRegression()"
      ]
     },
     "execution_count": 52,
     "metadata": {},
     "output_type": "execute_result"
    }
   ],
   "source": [
    "from sklearn.model_selection import cross_val_score\n",
    "\n",
    "# features, target 데이터 정의\n",
    "y_target = df['거래금액(만원)']\n",
    "X_data = df.drop(['거래금액(만원)'], axis=1, inplace=False)\n",
    "\n",
    "# 선형 회귀 객체 생성\n",
    "lr = LinearRegression()\n",
    "lr"
   ]
  },
  {
   "cell_type": "code",
   "execution_count": 53,
   "id": "dc688d17",
   "metadata": {},
   "outputs": [
    {
     "data": {
      "text/plain": [
       "array([-40425298.78121763, -45792001.30083339, -44554361.16129865,\n",
       "       -41935873.57667971, -51697549.66769119])"
      ]
     },
     "execution_count": 53,
     "metadata": {},
     "output_type": "execute_result"
    }
   ],
   "source": [
    "# 5 folds 의 개별 Negative MSE scores\n",
    "neg_mse_scores = cross_val_score(lr, X_data, y_target, scoring=\"neg_mean_squared_error\", cv = 5)\n",
    "neg_mse_scores"
   ]
  },
  {
   "cell_type": "code",
   "execution_count": 54,
   "id": "7ac9d85b",
   "metadata": {},
   "outputs": [
    {
     "data": {
      "text/plain": [
       "array([6358.0892398 , 6766.97874245, 6674.90532976, 6475.79134753,\n",
       "       7190.10081068])"
      ]
     },
     "execution_count": 54,
     "metadata": {},
     "output_type": "execute_result"
    }
   ],
   "source": [
    "# RMSE를 구하기 위해서는 MSE값들에 -1을 곱한 후 평균을 내면 된다.\n",
    "rmse_scores  = np.sqrt( -1 * neg_mse_scores )\n",
    "rmse_scores"
   ]
  },
  {
   "cell_type": "code",
   "execution_count": 55,
   "id": "b91eebaf",
   "metadata": {},
   "outputs": [
    {
     "data": {
      "text/plain": [
       "6693.173094043166"
      ]
     },
     "execution_count": 55,
     "metadata": {},
     "output_type": "execute_result"
    }
   ],
   "source": [
    "# 5 folds 의 평균 RMSE\n",
    "avg_rmse = np.mean(rmse_scores)\n",
    "avg_rmse"
   ]
  },
  {
   "cell_type": "code",
   "execution_count": 56,
   "id": "45c40f27",
   "metadata": {},
   "outputs": [
    {
     "name": "stdout",
     "output_type": "stream",
     "text": [
      " 5 folds 의 개별 Negative MSE scores:  [-40425298.78 -45792001.3  -44554361.16 -41935873.58 -51697549.67]\n",
      " 5 folds 의 개별 RMSE scores :  [6358.09 6766.98 6674.91 6475.79 7190.1 ]\n",
      " 5 folds 의 평균 RMSE : 6693.173 \n"
     ]
    }
   ],
   "source": [
    "# cross_val_score(scoring=\"neg_mean_squared_error\")로 반환된 값은 모두 음수 \n",
    "print(' 5 folds 의 개별 Negative MSE scores: ', np.round(neg_mse_scores, 2))\n",
    "print(' 5 folds 의 개별 RMSE scores : ', np.round(rmse_scores, 2))\n",
    "print(' 5 folds 의 평균 RMSE : {0:.3f} '.format(avg_rmse))"
   ]
  },
  {
   "cell_type": "code",
   "execution_count": null,
   "id": "f9b5223d",
   "metadata": {},
   "outputs": [],
   "source": []
  }
 ],
 "metadata": {
  "kernelspec": {
   "display_name": "Python 3 (ipykernel)",
   "language": "python",
   "name": "python3"
  },
  "language_info": {
   "codemirror_mode": {
    "name": "ipython",
    "version": 3
   },
   "file_extension": ".py",
   "mimetype": "text/x-python",
   "name": "python",
   "nbconvert_exporter": "python",
   "pygments_lexer": "ipython3",
   "version": "3.9.7"
  }
 },
 "nbformat": 4,
 "nbformat_minor": 5
}
