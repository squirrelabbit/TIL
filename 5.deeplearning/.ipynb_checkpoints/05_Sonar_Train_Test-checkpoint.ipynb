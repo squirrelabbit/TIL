{
 "cells": [
  {
   "cell_type": "code",
   "execution_count": 9,
   "metadata": {},
   "outputs": [],
   "source": [
    "from keras.models import Sequential\n",
    "from keras.layers.core import Dense\n",
    "from sklearn.preprocessing import LabelEncoder\n",
    "from sklearn.model_selection import train_test_split\n",
    "\n",
    "import pandas as pd\n",
    "import numpy as np\n",
    "import tensorflow as tf\n",
    "\n",
    "# seed 값 설정\n",
    "seed = 0\n",
    "numpy.random.seed(seed)\n",
    "tf.random.set_seed(3)"
   ]
  },
  {
   "cell_type": "code",
   "execution_count": 10,
   "metadata": {},
   "outputs": [
    {
     "name": "stdout",
     "output_type": "stream",
     "text": [
      "(208, 61)\n"
     ]
    },
    {
     "data": {
      "text/html": [
       "<div>\n",
       "<style scoped>\n",
       "    .dataframe tbody tr th:only-of-type {\n",
       "        vertical-align: middle;\n",
       "    }\n",
       "\n",
       "    .dataframe tbody tr th {\n",
       "        vertical-align: top;\n",
       "    }\n",
       "\n",
       "    .dataframe thead th {\n",
       "        text-align: right;\n",
       "    }\n",
       "</style>\n",
       "<table border=\"1\" class=\"dataframe\">\n",
       "  <thead>\n",
       "    <tr style=\"text-align: right;\">\n",
       "      <th></th>\n",
       "      <th>0</th>\n",
       "      <th>1</th>\n",
       "      <th>2</th>\n",
       "      <th>3</th>\n",
       "      <th>4</th>\n",
       "      <th>5</th>\n",
       "      <th>6</th>\n",
       "      <th>7</th>\n",
       "      <th>8</th>\n",
       "      <th>9</th>\n",
       "      <th>...</th>\n",
       "      <th>51</th>\n",
       "      <th>52</th>\n",
       "      <th>53</th>\n",
       "      <th>54</th>\n",
       "      <th>55</th>\n",
       "      <th>56</th>\n",
       "      <th>57</th>\n",
       "      <th>58</th>\n",
       "      <th>59</th>\n",
       "      <th>60</th>\n",
       "    </tr>\n",
       "  </thead>\n",
       "  <tbody>\n",
       "    <tr>\n",
       "      <th>0</th>\n",
       "      <td>0.0200</td>\n",
       "      <td>0.0371</td>\n",
       "      <td>0.0428</td>\n",
       "      <td>0.0207</td>\n",
       "      <td>0.0954</td>\n",
       "      <td>0.0986</td>\n",
       "      <td>0.1539</td>\n",
       "      <td>0.1601</td>\n",
       "      <td>0.3109</td>\n",
       "      <td>0.2111</td>\n",
       "      <td>...</td>\n",
       "      <td>0.0027</td>\n",
       "      <td>0.0065</td>\n",
       "      <td>0.0159</td>\n",
       "      <td>0.0072</td>\n",
       "      <td>0.0167</td>\n",
       "      <td>0.0180</td>\n",
       "      <td>0.0084</td>\n",
       "      <td>0.0090</td>\n",
       "      <td>0.0032</td>\n",
       "      <td>R</td>\n",
       "    </tr>\n",
       "    <tr>\n",
       "      <th>1</th>\n",
       "      <td>0.0453</td>\n",
       "      <td>0.0523</td>\n",
       "      <td>0.0843</td>\n",
       "      <td>0.0689</td>\n",
       "      <td>0.1183</td>\n",
       "      <td>0.2583</td>\n",
       "      <td>0.2156</td>\n",
       "      <td>0.3481</td>\n",
       "      <td>0.3337</td>\n",
       "      <td>0.2872</td>\n",
       "      <td>...</td>\n",
       "      <td>0.0084</td>\n",
       "      <td>0.0089</td>\n",
       "      <td>0.0048</td>\n",
       "      <td>0.0094</td>\n",
       "      <td>0.0191</td>\n",
       "      <td>0.0140</td>\n",
       "      <td>0.0049</td>\n",
       "      <td>0.0052</td>\n",
       "      <td>0.0044</td>\n",
       "      <td>R</td>\n",
       "    </tr>\n",
       "    <tr>\n",
       "      <th>2</th>\n",
       "      <td>0.0262</td>\n",
       "      <td>0.0582</td>\n",
       "      <td>0.1099</td>\n",
       "      <td>0.1083</td>\n",
       "      <td>0.0974</td>\n",
       "      <td>0.2280</td>\n",
       "      <td>0.2431</td>\n",
       "      <td>0.3771</td>\n",
       "      <td>0.5598</td>\n",
       "      <td>0.6194</td>\n",
       "      <td>...</td>\n",
       "      <td>0.0232</td>\n",
       "      <td>0.0166</td>\n",
       "      <td>0.0095</td>\n",
       "      <td>0.0180</td>\n",
       "      <td>0.0244</td>\n",
       "      <td>0.0316</td>\n",
       "      <td>0.0164</td>\n",
       "      <td>0.0095</td>\n",
       "      <td>0.0078</td>\n",
       "      <td>R</td>\n",
       "    </tr>\n",
       "  </tbody>\n",
       "</table>\n",
       "<p>3 rows × 61 columns</p>\n",
       "</div>"
      ],
      "text/plain": [
       "       0       1       2       3       4       5       6       7       8   \\\n",
       "0  0.0200  0.0371  0.0428  0.0207  0.0954  0.0986  0.1539  0.1601  0.3109   \n",
       "1  0.0453  0.0523  0.0843  0.0689  0.1183  0.2583  0.2156  0.3481  0.3337   \n",
       "2  0.0262  0.0582  0.1099  0.1083  0.0974  0.2280  0.2431  0.3771  0.5598   \n",
       "\n",
       "       9   ...      51      52      53      54      55      56      57  \\\n",
       "0  0.2111  ...  0.0027  0.0065  0.0159  0.0072  0.0167  0.0180  0.0084   \n",
       "1  0.2872  ...  0.0084  0.0089  0.0048  0.0094  0.0191  0.0140  0.0049   \n",
       "2  0.6194  ...  0.0232  0.0166  0.0095  0.0180  0.0244  0.0316  0.0164   \n",
       "\n",
       "       58      59  60  \n",
       "0  0.0090  0.0032   R  \n",
       "1  0.0052  0.0044   R  \n",
       "2  0.0095  0.0078   R  \n",
       "\n",
       "[3 rows x 61 columns]"
      ]
     },
     "execution_count": 10,
     "metadata": {},
     "output_type": "execute_result"
    }
   ],
   "source": [
    "# 데이터 로드 및 확인\n",
    "df = pd.read_csv('dataset/sonar.csv', header=None)\n",
    "\n",
    "print(df.shape)\n",
    "df.head(3)"
   ]
  },
  {
   "cell_type": "code",
   "execution_count": 11,
   "metadata": {},
   "outputs": [
    {
     "data": {
      "text/plain": [
       "M    111\n",
       "R     97\n",
       "Name: 60, dtype: int64"
      ]
     },
     "execution_count": 11,
     "metadata": {},
     "output_type": "execute_result"
    }
   ],
   "source": [
    "df[60].value_counts()"
   ]
  },
  {
   "cell_type": "code",
   "execution_count": 12,
   "metadata": {},
   "outputs": [],
   "source": [
    "dataset = df.values\n",
    "# 피처 데이터, 타깃 데이터 분리\n",
    "X = dataset[:, 0:60]\n",
    "Y_obj = dataset[:, 60]"
   ]
  },
  {
   "cell_type": "code",
   "execution_count": 13,
   "metadata": {},
   "outputs": [],
   "source": [
    "# 원핫 인코딩\n",
    "e = LabelEncoder()\n",
    "e.fit(Y_obj)\n",
    "Y = e.transform(Y_obj)\n",
    "\n",
    "# 학습 셋과 테스트 셋의 구분\n",
    "X_train, X_test, Y_train, Y_test = train_test_split(X, Y, test_size=0.3, random_state=seed)"
   ]
  },
  {
   "cell_type": "code",
   "execution_count": 14,
   "metadata": {},
   "outputs": [
    {
     "data": {
      "text/plain": [
       "array([[0.0135, 0.0045, 0.0051, ..., 0.0028, 0.003 , 0.003 ],\n",
       "       [0.0293, 0.0644, 0.039 , ..., 0.016 , 0.0095, 0.0011],\n",
       "       [0.024 , 0.0218, 0.0324, ..., 0.0019, 0.0066, 0.0023],\n",
       "       ...,\n",
       "       [0.0228, 0.0106, 0.013 , ..., 0.0045, 0.0063, 0.0039],\n",
       "       [0.0373, 0.0281, 0.0232, ..., 0.0054, 0.0085, 0.006 ],\n",
       "       [0.018 , 0.0444, 0.0476, ..., 0.005 , 0.0073, 0.0022]],\n",
       "      dtype=float32)"
      ]
     },
     "execution_count": 14,
     "metadata": {},
     "output_type": "execute_result"
    }
   ],
   "source": [
    "# X_train 피처는 'float32' 타입으로 만들어줘야 학습이 가능\n",
    "X_train = np.asarray(X_train).astype('float32')\n",
    "X_train"
   ]
  },
  {
   "cell_type": "code",
   "execution_count": 15,
   "metadata": {},
   "outputs": [
    {
     "data": {
      "text/plain": [
       "array([[7.90e-03, 8.60e-03, 5.50e-03, ..., 5.80e-03, 5.90e-03, 3.20e-03],\n",
       "       [2.29e-02, 3.69e-02, 4.00e-03, ..., 2.90e-03, 1.04e-02, 1.63e-02],\n",
       "       [4.42e-02, 4.77e-02, 4.90e-03, ..., 1.05e-02, 5.90e-03, 1.05e-02],\n",
       "       ...,\n",
       "       [3.15e-02, 2.52e-02, 1.67e-02, ..., 3.50e-03, 1.00e-04, 5.50e-03],\n",
       "       [4.28e-02, 5.55e-02, 7.08e-02, ..., 8.40e-03, 1.13e-02, 4.90e-03],\n",
       "       [2.39e-02, 1.89e-02, 4.66e-02, ..., 2.60e-03, 3.60e-03, 2.40e-03]],\n",
       "      dtype=float32)"
      ]
     },
     "execution_count": 15,
     "metadata": {},
     "output_type": "execute_result"
    }
   ],
   "source": [
    "# X_test 피처도 'float32' 타입으로 만들어준다.\n",
    "X_test = np.asarray(X_test).astype('float32')\n",
    "X_test"
   ]
  },
  {
   "cell_type": "code",
   "execution_count": 16,
   "metadata": {},
   "outputs": [
    {
     "name": "stdout",
     "output_type": "stream",
     "text": [
      "(145, 60)\n",
      "(63, 60)\n",
      "(145,)\n",
      "(63,)\n"
     ]
    }
   ],
   "source": [
    "print(X_train.shape)\n",
    "print(X_test.shape)\n",
    "print(Y_train.shape)\n",
    "print(Y_test.shape)"
   ]
  },
  {
   "cell_type": "code",
   "execution_count": 17,
   "metadata": {},
   "outputs": [
    {
     "data": {
      "text/plain": [
       "array([[0.0135, 0.0045, 0.0051, ..., 0.0028, 0.003 , 0.003 ],\n",
       "       [0.0293, 0.0644, 0.039 , ..., 0.016 , 0.0095, 0.0011],\n",
       "       [0.024 , 0.0218, 0.0324, ..., 0.0019, 0.0066, 0.0023],\n",
       "       ...,\n",
       "       [0.0228, 0.0106, 0.013 , ..., 0.0045, 0.0063, 0.0039],\n",
       "       [0.0373, 0.0281, 0.0232, ..., 0.0054, 0.0085, 0.006 ],\n",
       "       [0.018 , 0.0444, 0.0476, ..., 0.005 , 0.0073, 0.0022]],\n",
       "      dtype=float32)"
      ]
     },
     "execution_count": 17,
     "metadata": {},
     "output_type": "execute_result"
    }
   ],
   "source": [
    "X_train"
   ]
  },
  {
   "cell_type": "code",
   "execution_count": 18,
   "metadata": {},
   "outputs": [
    {
     "data": {
      "text/plain": [
       "array([1, 1, 1, 1, 1, 0, 1, 1, 0, 0, 1, 0, 1, 0, 0, 0, 0, 0, 0, 0, 0, 1,\n",
       "       1, 0, 0, 1, 1, 0, 0, 0, 1, 1, 1, 0, 0, 1, 1, 0, 1, 0, 0, 0, 0, 0,\n",
       "       1, 1, 0, 0, 0, 1, 0, 1, 1, 0, 1, 1, 0, 1, 1, 1, 1, 1, 0, 1, 0, 1,\n",
       "       1, 0, 0, 0, 0, 1, 1, 1, 0, 0, 0, 0, 1, 0, 1, 0, 0, 1, 1, 1, 1, 0,\n",
       "       0, 1, 0, 0, 0, 1, 1, 0, 1, 0, 0, 1, 1, 0, 0, 0, 1, 0, 0, 0, 1, 0,\n",
       "       0, 0, 0, 1, 0, 1, 0, 1, 0, 0, 0, 1, 1, 1, 0, 1, 0, 0, 0, 1, 1, 0,\n",
       "       1, 1, 1, 1, 1, 1, 0, 0, 1, 0, 0, 1, 0])"
      ]
     },
     "execution_count": 18,
     "metadata": {},
     "output_type": "execute_result"
    }
   ],
   "source": [
    "Y_train"
   ]
  },
  {
   "cell_type": "code",
   "execution_count": 19,
   "metadata": {},
   "outputs": [],
   "source": [
    "# 모델 정의\n",
    "model = Sequential()                                    \n",
    "model.add(Dense(24,  input_dim=60, activation='relu'))  # 입력층 노드 수 60개(relu)\n",
    "                                                        # 은닉층1 노드 수 24개(relu)\n",
    "model.add(Dense(10, activation='relu'))                 # 은닉층2 노드 수 10개(relu)\n",
    "model.add(Dense(1, activation='sigmoid'))               # 출력층 노드 수 1개(sigmoid로 이진 분류)\n",
    "\n",
    "model.compile(loss='binary_crossentropy',\n",
    "            optimizer='adam',\n",
    "            metrics=['accuracy'])"
   ]
  },
  {
   "cell_type": "code",
   "execution_count": 20,
   "metadata": {},
   "outputs": [
    {
     "name": "stdout",
     "output_type": "stream",
     "text": [
      "Epoch 1/130\n",
      "29/29 [==============================] - 1s 4ms/step - loss: 0.6875 - accuracy: 0.4897\n",
      "Epoch 2/130\n",
      "29/29 [==============================] - 0s 6ms/step - loss: 0.6555 - accuracy: 0.6483\n",
      "Epoch 3/130\n",
      "29/29 [==============================] - 0s 8ms/step - loss: 0.6399 - accuracy: 0.6069\n",
      "Epoch 4/130\n",
      "29/29 [==============================] - 0s 4ms/step - loss: 0.6172 - accuracy: 0.6966\n",
      "Epoch 5/130\n",
      "29/29 [==============================] - 0s 3ms/step - loss: 0.5952 - accuracy: 0.7517\n",
      "Epoch 6/130\n",
      "29/29 [==============================] - 0s 3ms/step - loss: 0.5702 - accuracy: 0.7448\n",
      "Epoch 7/130\n",
      "29/29 [==============================] - 0s 3ms/step - loss: 0.5450 - accuracy: 0.7448\n",
      "Epoch 8/130\n",
      "29/29 [==============================] - 0s 3ms/step - loss: 0.5224 - accuracy: 0.7931\n",
      "Epoch 9/130\n",
      "29/29 [==============================] - 0s 3ms/step - loss: 0.5006 - accuracy: 0.7793\n",
      "Epoch 10/130\n",
      "29/29 [==============================] - 0s 3ms/step - loss: 0.4904 - accuracy: 0.8000\n",
      "Epoch 11/130\n",
      "29/29 [==============================] - 0s 3ms/step - loss: 0.4701 - accuracy: 0.8000\n",
      "Epoch 12/130\n",
      "29/29 [==============================] - 0s 2ms/step - loss: 0.4672 - accuracy: 0.7931\n",
      "Epoch 13/130\n",
      "29/29 [==============================] - 0s 3ms/step - loss: 0.4523 - accuracy: 0.8138\n",
      "Epoch 14/130\n",
      "29/29 [==============================] - 0s 3ms/step - loss: 0.4343 - accuracy: 0.8069\n",
      "Epoch 15/130\n",
      "29/29 [==============================] - 0s 3ms/step - loss: 0.4234 - accuracy: 0.8207\n",
      "Epoch 16/130\n",
      "29/29 [==============================] - 0s 3ms/step - loss: 0.4114 - accuracy: 0.8207\n",
      "Epoch 17/130\n",
      "29/29 [==============================] - 0s 3ms/step - loss: 0.4013 - accuracy: 0.8345\n",
      "Epoch 18/130\n",
      "29/29 [==============================] - 0s 4ms/step - loss: 0.3828 - accuracy: 0.8414\n",
      "Epoch 19/130\n",
      "29/29 [==============================] - 0s 3ms/step - loss: 0.3909 - accuracy: 0.8414\n",
      "Epoch 20/130\n",
      "29/29 [==============================] - 0s 3ms/step - loss: 0.3699 - accuracy: 0.8552\n",
      "Epoch 21/130\n",
      "29/29 [==============================] - 0s 2ms/step - loss: 0.3572 - accuracy: 0.8552\n",
      "Epoch 22/130\n",
      "29/29 [==============================] - 0s 2ms/step - loss: 0.3499 - accuracy: 0.8552\n",
      "Epoch 23/130\n",
      "29/29 [==============================] - 0s 3ms/step - loss: 0.3429 - accuracy: 0.8690\n",
      "Epoch 24/130\n",
      "29/29 [==============================] - 0s 2ms/step - loss: 0.3319 - accuracy: 0.8828\n",
      "Epoch 25/130\n",
      "29/29 [==============================] - 0s 2ms/step - loss: 0.3337 - accuracy: 0.8414\n",
      "Epoch 26/130\n",
      "29/29 [==============================] - 0s 2ms/step - loss: 0.3174 - accuracy: 0.8621\n",
      "Epoch 27/130\n",
      "29/29 [==============================] - 0s 3ms/step - loss: 0.3069 - accuracy: 0.8690\n",
      "Epoch 28/130\n",
      "29/29 [==============================] - 0s 3ms/step - loss: 0.2971 - accuracy: 0.8759\n",
      "Epoch 29/130\n",
      "29/29 [==============================] - 0s 3ms/step - loss: 0.2917 - accuracy: 0.8759\n",
      "Epoch 30/130\n",
      "29/29 [==============================] - 0s 3ms/step - loss: 0.2956 - accuracy: 0.8690\n",
      "Epoch 31/130\n",
      "29/29 [==============================] - 0s 3ms/step - loss: 0.2926 - accuracy: 0.8759\n",
      "Epoch 32/130\n",
      "29/29 [==============================] - 0s 2ms/step - loss: 0.2814 - accuracy: 0.8897\n",
      "Epoch 33/130\n",
      "29/29 [==============================] - 0s 3ms/step - loss: 0.2627 - accuracy: 0.8897\n",
      "Epoch 34/130\n",
      "29/29 [==============================] - 0s 2ms/step - loss: 0.2647 - accuracy: 0.8966\n",
      "Epoch 35/130\n",
      "29/29 [==============================] - 0s 3ms/step - loss: 0.2507 - accuracy: 0.9172\n",
      "Epoch 36/130\n",
      "29/29 [==============================] - 0s 4ms/step - loss: 0.2435 - accuracy: 0.8966\n",
      "Epoch 37/130\n",
      "29/29 [==============================] - 0s 3ms/step - loss: 0.2345 - accuracy: 0.9034\n",
      "Epoch 38/130\n",
      "29/29 [==============================] - 0s 4ms/step - loss: 0.2284 - accuracy: 0.9172\n",
      "Epoch 39/130\n",
      "29/29 [==============================] - 0s 5ms/step - loss: 0.2197 - accuracy: 0.9310\n",
      "Epoch 40/130\n",
      "29/29 [==============================] - 0s 5ms/step - loss: 0.2244 - accuracy: 0.9172\n",
      "Epoch 41/130\n",
      "29/29 [==============================] - 0s 6ms/step - loss: 0.2173 - accuracy: 0.9241\n",
      "Epoch 42/130\n",
      "29/29 [==============================] - 0s 6ms/step - loss: 0.2049 - accuracy: 0.9379\n",
      "Epoch 43/130\n",
      "29/29 [==============================] - 0s 5ms/step - loss: 0.2075 - accuracy: 0.9172\n",
      "Epoch 44/130\n",
      "29/29 [==============================] - 0s 3ms/step - loss: 0.1976 - accuracy: 0.9310\n",
      "Epoch 45/130\n",
      "29/29 [==============================] - 0s 3ms/step - loss: 0.1838 - accuracy: 0.9517\n",
      "Epoch 46/130\n",
      "29/29 [==============================] - 0s 3ms/step - loss: 0.1780 - accuracy: 0.9379\n",
      "Epoch 47/130\n",
      "29/29 [==============================] - 0s 6ms/step - loss: 0.1705 - accuracy: 0.9655\n",
      "Epoch 48/130\n",
      "29/29 [==============================] - 0s 4ms/step - loss: 0.1629 - accuracy: 0.9448\n",
      "Epoch 49/130\n",
      "29/29 [==============================] - 0s 5ms/step - loss: 0.1550 - accuracy: 0.9517\n",
      "Epoch 50/130\n",
      "29/29 [==============================] - 0s 5ms/step - loss: 0.1561 - accuracy: 0.9586\n",
      "Epoch 51/130\n",
      "29/29 [==============================] - 0s 4ms/step - loss: 0.1566 - accuracy: 0.9517\n",
      "Epoch 52/130\n",
      "29/29 [==============================] - 0s 3ms/step - loss: 0.1452 - accuracy: 0.9655\n",
      "Epoch 53/130\n",
      "29/29 [==============================] - 0s 3ms/step - loss: 0.1429 - accuracy: 0.9448\n",
      "Epoch 54/130\n",
      "29/29 [==============================] - 0s 5ms/step - loss: 0.1256 - accuracy: 0.9793\n",
      "Epoch 55/130\n",
      "29/29 [==============================] - 0s 5ms/step - loss: 0.1318 - accuracy: 0.9793\n",
      "Epoch 56/130\n",
      "29/29 [==============================] - 0s 3ms/step - loss: 0.1186 - accuracy: 0.9931\n",
      "Epoch 57/130\n",
      "29/29 [==============================] - 0s 2ms/step - loss: 0.1143 - accuracy: 0.9931\n",
      "Epoch 58/130\n",
      "29/29 [==============================] - 0s 3ms/step - loss: 0.1171 - accuracy: 0.9862\n",
      "Epoch 59/130\n",
      "29/29 [==============================] - 0s 2ms/step - loss: 0.1085 - accuracy: 0.9862\n",
      "Epoch 60/130\n",
      "29/29 [==============================] - 0s 3ms/step - loss: 0.1057 - accuracy: 0.9862\n",
      "Epoch 61/130\n",
      "29/29 [==============================] - 0s 2ms/step - loss: 0.1012 - accuracy: 0.9862\n",
      "Epoch 62/130\n",
      "29/29 [==============================] - 0s 2ms/step - loss: 0.1033 - accuracy: 0.9793\n",
      "Epoch 63/130\n",
      "29/29 [==============================] - 0s 3ms/step - loss: 0.0939 - accuracy: 0.9793\n",
      "Epoch 64/130\n",
      "29/29 [==============================] - 0s 7ms/step - loss: 0.0879 - accuracy: 0.9931\n",
      "Epoch 65/130\n",
      "29/29 [==============================] - 0s 5ms/step - loss: 0.0863 - accuracy: 0.9931\n",
      "Epoch 66/130\n",
      "29/29 [==============================] - 0s 4ms/step - loss: 0.0893 - accuracy: 0.9862\n",
      "Epoch 67/130\n",
      "29/29 [==============================] - 0s 5ms/step - loss: 0.0755 - accuracy: 0.9931\n",
      "Epoch 68/130\n",
      "29/29 [==============================] - 0s 4ms/step - loss: 0.0794 - accuracy: 0.9931\n",
      "Epoch 69/130\n",
      "29/29 [==============================] - 0s 5ms/step - loss: 0.0763 - accuracy: 0.9862\n",
      "Epoch 70/130\n",
      "29/29 [==============================] - 0s 8ms/step - loss: 0.0927 - accuracy: 0.9862\n",
      "Epoch 71/130\n",
      "29/29 [==============================] - 0s 5ms/step - loss: 0.0697 - accuracy: 0.9931\n",
      "Epoch 72/130\n",
      "29/29 [==============================] - 0s 4ms/step - loss: 0.0656 - accuracy: 0.9931\n",
      "Epoch 73/130\n",
      "29/29 [==============================] - 0s 3ms/step - loss: 0.0842 - accuracy: 0.9724\n",
      "Epoch 74/130\n",
      "29/29 [==============================] - 0s 3ms/step - loss: 0.0612 - accuracy: 1.0000\n",
      "Epoch 75/130\n",
      "29/29 [==============================] - 0s 2ms/step - loss: 0.0574 - accuracy: 1.0000\n",
      "Epoch 76/130\n",
      "29/29 [==============================] - 0s 6ms/step - loss: 0.0570 - accuracy: 1.0000\n",
      "Epoch 77/130\n",
      "29/29 [==============================] - 0s 8ms/step - loss: 0.0571 - accuracy: 0.9931\n",
      "Epoch 78/130\n",
      "29/29 [==============================] - 0s 4ms/step - loss: 0.0613 - accuracy: 0.9931\n",
      "Epoch 79/130\n",
      "29/29 [==============================] - 0s 3ms/step - loss: 0.0545 - accuracy: 1.0000\n",
      "Epoch 80/130\n",
      "29/29 [==============================] - 0s 3ms/step - loss: 0.0508 - accuracy: 0.9931\n",
      "Epoch 81/130\n",
      "29/29 [==============================] - 0s 3ms/step - loss: 0.0461 - accuracy: 1.0000\n",
      "Epoch 82/130\n",
      "29/29 [==============================] - 0s 2ms/step - loss: 0.0509 - accuracy: 0.9931\n",
      "Epoch 83/130\n"
     ]
    },
    {
     "name": "stdout",
     "output_type": "stream",
     "text": [
      "29/29 [==============================] - 0s 2ms/step - loss: 0.0458 - accuracy: 0.9931\n",
      "Epoch 84/130\n",
      "29/29 [==============================] - 0s 2ms/step - loss: 0.0424 - accuracy: 1.0000\n",
      "Epoch 85/130\n",
      "29/29 [==============================] - 0s 2ms/step - loss: 0.0377 - accuracy: 1.0000\n",
      "Epoch 86/130\n",
      "29/29 [==============================] - 0s 2ms/step - loss: 0.0358 - accuracy: 1.0000\n",
      "Epoch 87/130\n",
      "29/29 [==============================] - 0s 2ms/step - loss: 0.0353 - accuracy: 1.0000\n",
      "Epoch 88/130\n",
      "29/29 [==============================] - 0s 2ms/step - loss: 0.0359 - accuracy: 1.0000\n",
      "Epoch 89/130\n",
      "29/29 [==============================] - 0s 2ms/step - loss: 0.0340 - accuracy: 1.0000\n",
      "Epoch 90/130\n",
      "29/29 [==============================] - 0s 2ms/step - loss: 0.0351 - accuracy: 1.0000\n",
      "Epoch 91/130\n",
      "29/29 [==============================] - 0s 1ms/step - loss: 0.0374 - accuracy: 1.0000\n",
      "Epoch 92/130\n",
      "29/29 [==============================] - 0s 2ms/step - loss: 0.0325 - accuracy: 1.0000\n",
      "Epoch 93/130\n",
      "29/29 [==============================] - 0s 2ms/step - loss: 0.0313 - accuracy: 1.0000\n",
      "Epoch 94/130\n",
      "29/29 [==============================] - 0s 2ms/step - loss: 0.0265 - accuracy: 1.0000\n",
      "Epoch 95/130\n",
      "29/29 [==============================] - 0s 2ms/step - loss: 0.0281 - accuracy: 1.0000\n",
      "Epoch 96/130\n",
      "29/29 [==============================] - 0s 2ms/step - loss: 0.0245 - accuracy: 1.0000\n",
      "Epoch 97/130\n",
      "29/29 [==============================] - 0s 2ms/step - loss: 0.0237 - accuracy: 1.0000\n",
      "Epoch 98/130\n",
      "29/29 [==============================] - 0s 2ms/step - loss: 0.0259 - accuracy: 1.0000\n",
      "Epoch 99/130\n",
      "29/29 [==============================] - 0s 2ms/step - loss: 0.0219 - accuracy: 1.0000\n",
      "Epoch 100/130\n",
      "29/29 [==============================] - 0s 2ms/step - loss: 0.0213 - accuracy: 1.0000\n",
      "Epoch 101/130\n",
      "29/29 [==============================] - 0s 2ms/step - loss: 0.0203 - accuracy: 1.0000\n",
      "Epoch 102/130\n",
      "29/29 [==============================] - 0s 2ms/step - loss: 0.0211 - accuracy: 1.0000\n",
      "Epoch 103/130\n",
      "29/29 [==============================] - 0s 2ms/step - loss: 0.0219 - accuracy: 1.0000\n",
      "Epoch 104/130\n",
      "29/29 [==============================] - 0s 2ms/step - loss: 0.0191 - accuracy: 1.0000\n",
      "Epoch 105/130\n",
      "29/29 [==============================] - 0s 2ms/step - loss: 0.0210 - accuracy: 1.0000\n",
      "Epoch 106/130\n",
      "29/29 [==============================] - 0s 2ms/step - loss: 0.0216 - accuracy: 1.0000\n",
      "Epoch 107/130\n",
      "29/29 [==============================] - 0s 2ms/step - loss: 0.0169 - accuracy: 1.0000\n",
      "Epoch 108/130\n",
      "29/29 [==============================] - 0s 2ms/step - loss: 0.0162 - accuracy: 1.0000\n",
      "Epoch 109/130\n",
      "29/29 [==============================] - 0s 2ms/step - loss: 0.0185 - accuracy: 1.0000\n",
      "Epoch 110/130\n",
      "29/29 [==============================] - 0s 2ms/step - loss: 0.0164 - accuracy: 1.0000\n",
      "Epoch 111/130\n",
      "29/29 [==============================] - 0s 2ms/step - loss: 0.0153 - accuracy: 1.0000\n",
      "Epoch 112/130\n",
      "29/29 [==============================] - 0s 2ms/step - loss: 0.0144 - accuracy: 1.0000\n",
      "Epoch 113/130\n",
      "29/29 [==============================] - 0s 2ms/step - loss: 0.0136 - accuracy: 1.0000\n",
      "Epoch 114/130\n",
      "29/29 [==============================] - 0s 2ms/step - loss: 0.0131 - accuracy: 1.0000\n",
      "Epoch 115/130\n",
      "29/29 [==============================] - 0s 2ms/step - loss: 0.0141 - accuracy: 1.0000\n",
      "Epoch 116/130\n",
      "29/29 [==============================] - 0s 2ms/step - loss: 0.0124 - accuracy: 1.0000\n",
      "Epoch 117/130\n",
      "29/29 [==============================] - 0s 2ms/step - loss: 0.0135 - accuracy: 1.0000\n",
      "Epoch 118/130\n",
      "29/29 [==============================] - 0s 2ms/step - loss: 0.0115 - accuracy: 1.0000\n",
      "Epoch 119/130\n",
      "29/29 [==============================] - 0s 2ms/step - loss: 0.0120 - accuracy: 1.0000\n",
      "Epoch 120/130\n",
      "29/29 [==============================] - 0s 2ms/step - loss: 0.0111 - accuracy: 1.0000\n",
      "Epoch 121/130\n",
      "29/29 [==============================] - 0s 2ms/step - loss: 0.0122 - accuracy: 1.0000\n",
      "Epoch 122/130\n",
      "29/29 [==============================] - 0s 2ms/step - loss: 0.0107 - accuracy: 1.0000\n",
      "Epoch 123/130\n",
      "29/29 [==============================] - 0s 2ms/step - loss: 0.0108 - accuracy: 1.0000\n",
      "Epoch 124/130\n",
      "29/29 [==============================] - 0s 2ms/step - loss: 0.0099 - accuracy: 1.0000\n",
      "Epoch 125/130\n",
      "29/29 [==============================] - 0s 2ms/step - loss: 0.0118 - accuracy: 1.0000\n",
      "Epoch 126/130\n",
      "29/29 [==============================] - 0s 2ms/step - loss: 0.0101 - accuracy: 1.0000\n",
      "Epoch 127/130\n",
      "29/29 [==============================] - 0s 2ms/step - loss: 0.0090 - accuracy: 1.0000\n",
      "Epoch 128/130\n",
      "29/29 [==============================] - 0s 2ms/step - loss: 0.0087 - accuracy: 1.0000\n",
      "Epoch 129/130\n",
      "29/29 [==============================] - 0s 2ms/step - loss: 0.0087 - accuracy: 1.0000\n",
      "Epoch 130/130\n",
      "29/29 [==============================] - 0s 2ms/step - loss: 0.0089 - accuracy: 1.0000\n"
     ]
    },
    {
     "data": {
      "text/plain": [
       "<keras.callbacks.History at 0x243aeaaee20>"
      ]
     },
     "execution_count": 20,
     "metadata": {},
     "output_type": "execute_result"
    }
   ],
   "source": [
    "# 모델 학습\n",
    "model.fit(X_train, Y_train, epochs=130, batch_size=5)"
   ]
  },
  {
   "cell_type": "code",
   "execution_count": 21,
   "metadata": {},
   "outputs": [
    {
     "name": "stdout",
     "output_type": "stream",
     "text": [
      "2/2 [==============================] - 0s 3ms/step - loss: 0.9193 - accuracy: 0.8571\n",
      "\n",
      " Test Accuracy: 0.8571\n"
     ]
    }
   ],
   "source": [
    "# 테스트셋에 모델 적용\n",
    "print(\"\\n Test Accuracy: %.4f\" % (model.evaluate(X_test, Y_test)[1]))"
   ]
  },
  {
   "cell_type": "raw",
   "metadata": {},
   "source": [
    "-> 정확도가 0.8571이 나온다. (앞 예제에서 학습셋으로 테스트 했더니 1.0 정확도(과적합)가 나왔던 것과 비교)"
   ]
  },
  {
   "cell_type": "code",
   "execution_count": null,
   "metadata": {},
   "outputs": [],
   "source": []
  }
 ],
 "metadata": {
  "kernelspec": {
   "display_name": "Python 3 (ipykernel)",
   "language": "python",
   "name": "python3"
  },
  "language_info": {
   "codemirror_mode": {
    "name": "ipython",
    "version": 3
   },
   "file_extension": ".py",
   "mimetype": "text/x-python",
   "name": "python",
   "nbconvert_exporter": "python",
   "pygments_lexer": "ipython3",
   "version": "3.9.7"
  },
  "varInspector": {
   "cols": {
    "lenName": 16,
    "lenType": 16,
    "lenVar": 40
   },
   "kernels_config": {
    "python": {
     "delete_cmd_postfix": "",
     "delete_cmd_prefix": "del ",
     "library": "var_list.py",
     "varRefreshCmd": "print(var_dic_list())"
    },
    "r": {
     "delete_cmd_postfix": ") ",
     "delete_cmd_prefix": "rm(",
     "library": "var_list.r",
     "varRefreshCmd": "cat(var_dic_list()) "
    }
   },
   "types_to_exclude": [
    "module",
    "function",
    "builtin_function_or_method",
    "instance",
    "_Feature"
   ],
   "window_display": false
  }
 },
 "nbformat": 4,
 "nbformat_minor": 2
}
