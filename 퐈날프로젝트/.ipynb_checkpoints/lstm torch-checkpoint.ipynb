{
 "cells": [
  {
   "cell_type": "code",
   "execution_count": 1,
   "id": "1e285030",
   "metadata": {},
   "outputs": [],
   "source": [
    "import numpy as np\n",
    "\n",
    "import pandas as pd\n",
    "\n",
    "import pandas_datareader.data as pdr\n",
    "\n",
    "import matplotlib.pyplot as plt\n",
    "\n",
    "import datetime\n",
    "\n",
    "import torch\n",
    "\n",
    "import torch.nn as nn\n",
    "\n",
    "from torch.autograd import Variable\n",
    "\n",
    "import torch.optim as optim\n",
    "\n",
    "from torch.utils.data import Dataset, DataLoader\n",
    "\n",
    "from sklearn.preprocessing import StandardScaler, MinMaxScaler"
   ]
  },
  {
   "cell_type": "code",
   "execution_count": 2,
   "id": "751b51b2",
   "metadata": {},
   "outputs": [],
   "source": [
    "# GPU setting\n",
    "\n",
    "device = torch.device(\"cuda:0\" if torch.cuda.is_available() else \"cpu\")\n",
    "\n",
    "#print(torch.cuda.get_device_name(0)) #Google colab = TESLA T4"
   ]
  },
  {
   "cell_type": "code",
   "execution_count": 3,
   "id": "757dac90",
   "metadata": {},
   "outputs": [],
   "source": [
    " \n",
    "# Training/Test ratio = 7:3\n",
    "\n",
    "Train_ratio = 0.7\n",
    "\n",
    "Test_ratio = 0.3"
   ]
  },
  {
   "cell_type": "code",
   "execution_count": 6,
   "id": "5045ab6f",
   "metadata": {},
   "outputs": [],
   "source": [
    " \n",
    "\n",
    "# Data load\n",
    "\n",
    "dataset = pd.read_excel('아파트매매가격지수_경기도_10년.xlsx',index_col = 0)\n",
    "\n",
    "df = dataset.T\n",
    "df\n",
    "\n",
    "x = df.iloc[:,0:-1]\n",
    "\n",
    "y = df.iloc[:,-1:]\n",
    "\n",
    " \n",
    "\n",
    "# Data Division\n",
    "\n",
    "train_x = x.iloc[0:int(len(df)*Train_ratio),:]\n",
    "\n",
    "train_y = y.iloc[0:int(len(df)*Train_ratio),:]\n",
    "\n",
    "test_x = x.iloc[int(len(df)*Train_ratio):,:]\n",
    "\n",
    "test_y = y.iloc[int(len(df)*Train_ratio):,:]\n",
    "\n",
    " "
   ]
  },
  {
   "cell_type": "code",
   "execution_count": 7,
   "id": "d08610a4",
   "metadata": {},
   "outputs": [],
   "source": [
    "# Normalizing , 둘다 학습하여 성능비교할것\n",
    "\n",
    "minmax = MinMaxScaler()\n",
    "\n",
    "standard = StandardScaler()\n",
    "\n",
    " \n",
    "\n",
    "train_x = minmax.fit_transform(train_x)\n",
    "\n",
    "train_y = minmax.fit_transform(train_y)\n",
    "\n",
    "test_x = minmax.fit_transform(test_x)\n",
    "\n",
    "test_y = minmax.fit_transform(test_y)\n",
    "\n",
    " "
   ]
  },
  {
   "cell_type": "code",
   "execution_count": 10,
   "id": "afb95372",
   "metadata": {},
   "outputs": [
    {
     "name": "stdout",
     "output_type": "stream",
     "text": [
      "torch.Size([77, 1, 27]) torch.Size([33, 1, 27])\n"
     ]
    }
   ],
   "source": [
    "# Check Data pre-processing\n",
    "\n",
    "#print(\"Training shape : \", train_x.shape, train_y.shape)\n",
    "\n",
    "#print(\"Test shape : \",test_x.shape, test_y.shape)\n",
    "\n",
    " \n",
    "\n",
    "# Numpy array상태로는 학습이 불가능하므로, Torch Variable 형태로 변경(data/grad/grad_fn)\n",
    "\n",
    "train_x_tensor = Variable(torch.Tensor(train_x))\n",
    "\n",
    "train_y_tensor = Variable(torch.Tensor(train_y))\n",
    "\n",
    "#print(\"After torch variable shape_Train : \",train_x_tensor.shape, train_y.shape)\n",
    "\n",
    " \n",
    "\n",
    "test_x_tensor = Variable(torch.Tensor(test_x))\n",
    "\n",
    "test_y_tensor = Variable(torch.Tensor(test_y))\n",
    "\n",
    "#print(\"After torch Variable shape_Test : \",test_x_tensor.shape, test_y_tensor.shape)\n",
    "\n",
    " \n",
    "\n",
    "train_x_tensor_final = torch.reshape(train_x_tensor, (train_x_tensor.shape[0], 1, train_x_tensor.shape[1]))\n",
    "\n",
    "train_y_tensor_final = torch.reshape(train_y_tensor, (train_y_tensor.shape[0], 1, train_y_tensor.shape[1]))\n",
    "\n",
    "test_x_tensor_final = torch.reshape(test_x_tensor, (test_x_tensor.shape[0], 1, test_x_tensor.shape[1]))\n",
    "\n",
    "test_y_tensor_final = torch.reshape(test_y_tensor,(test_y_tensor.shape[0], 1, test_y_tensor.shape[1]) )\n",
    "\n",
    "print(train_x_tensor_final.shape, test_x_tensor_final.shape)\n",
    "\n",
    " "
   ]
  },
  {
   "cell_type": "code",
   "execution_count": 11,
   "id": "6424011c",
   "metadata": {},
   "outputs": [],
   "source": [
    "# LSTM network modeling\n",
    "\n",
    "class LSTM_Jun(nn.Module):\n",
    "\n",
    "    def __init__(self, num_classes, input_size, hidden_size, num_layers, seq_length) : \n",
    "\n",
    "        super(LSTM_Jun, self).__init__()\n",
    "\n",
    "        self.num_classes = num_classes\n",
    "\n",
    "        self.num_layers = num_layers\n",
    "\n",
    "        self.input_size = input_size\n",
    "\n",
    "        self.hidden_size = hidden_size\n",
    "\n",
    "        self.seq_length = seq_length\n",
    "\n",
    "        self.lstm = nn.LSTM(input_size = input_size, hidden_size = hidden_size, num_layers = num_layers, batch_first = True)\n",
    "\n",
    "        self.layer_1 = nn.Linear(hidden_size, 256)\n",
    "\n",
    "        self.layer_2 = nn.Linear(256,256)\n",
    "\n",
    "        self.layer_3 = nn.Linear(256,128)\n",
    "\n",
    "        self.layer_out = nn.Linear(128, num_classes)\n",
    "\n",
    "        self.relu = nn.ReLU() #Activation Func\n",
    "\n",
    " \n",
    "\n",
    "    def forward(self,x):\n",
    "\n",
    "        h_0 = Variable(torch.zeros(self.num_layers, x.size(0), self.hidden_size)).to(device) #Hidden State\n",
    "\n",
    "        c_0 = Variable(torch.zeros(self.num_layers, x.size(0), self.hidden_size)).to(device) #Internal Process States\n",
    "\n",
    " \n",
    "\n",
    "        output, (hn, cn) = self.lstm(x, (h_0, c_0))\n",
    "\n",
    " \n",
    "\n",
    "        hn = hn.view(-1, self.hidden_size) # Reshaping the data for starting LSTM network\n",
    "\n",
    "        out = self.relu(hn) #pre-processing for first layer\n",
    "\n",
    "        out = self.layer_1(out) # first layer\n",
    "\n",
    "        out = self.relu(out) # activation func relu\n",
    "\n",
    "        out = self.layer_2(out)\n",
    "\n",
    "        out = self.relu(out)\n",
    "\n",
    "        out = self.layer_3(out)\n",
    "\n",
    "        out = self.relu(out)\n",
    "\n",
    "        out = self.layer_out(out) #Output layer\n",
    "\n",
    "        return out\n",
    "\n",
    " "
   ]
  },
  {
   "cell_type": "code",
   "execution_count": 12,
   "id": "ee29aa9e",
   "metadata": {},
   "outputs": [
    {
     "name": "stdout",
     "output_type": "stream",
     "text": [
      "Epoch : 0, loss : 0.31344\n",
      "Epoch : 200, loss : 0.01149\n",
      "Epoch : 400, loss : 0.00669\n",
      "Epoch : 600, loss : 0.00548\n",
      "Epoch : 800, loss : 0.00459\n",
      "Epoch : 1000, loss : 0.00373\n",
      "Epoch : 1200, loss : 0.00299\n",
      "Epoch : 1400, loss : 0.00250\n",
      "Epoch : 1600, loss : 0.00207\n",
      "Epoch : 1800, loss : 0.00180\n",
      "Epoch : 2000, loss : 0.00145\n",
      "Epoch : 2200, loss : 0.00137\n",
      "Epoch : 2400, loss : 0.00109\n",
      "Epoch : 2600, loss : 0.00102\n",
      "Epoch : 2800, loss : 0.00095\n",
      "Epoch : 3000, loss : 0.00104\n",
      "Epoch : 3200, loss : 0.00082\n",
      "Epoch : 3400, loss : 0.00078\n",
      "Epoch : 3600, loss : 0.00072\n",
      "Epoch : 3800, loss : 0.00072\n",
      "Epoch : 4000, loss : 0.00109\n",
      "Epoch : 4200, loss : 0.00061\n",
      "Epoch : 4400, loss : 0.00065\n",
      "Epoch : 4600, loss : 0.00090\n",
      "Epoch : 4800, loss : 0.00056\n",
      "Epoch : 5000, loss : 0.00052\n",
      "Epoch : 5200, loss : 0.00059\n",
      "Epoch : 5400, loss : 0.00050\n",
      "Epoch : 5600, loss : 0.00047\n",
      "Epoch : 5800, loss : 0.00045\n",
      "Epoch : 6000, loss : 0.00042\n",
      "Epoch : 6200, loss : 0.00042\n",
      "Epoch : 6400, loss : 0.00048\n",
      "Epoch : 6600, loss : 0.00038\n",
      "Epoch : 6800, loss : 0.00039\n",
      "Epoch : 7000, loss : 0.00037\n",
      "Epoch : 7200, loss : 0.00034\n",
      "Epoch : 7400, loss : 0.00038\n",
      "Epoch : 7600, loss : 0.00031\n",
      "Epoch : 7800, loss : 0.00029\n",
      "Epoch : 8000, loss : 0.00035\n",
      "Epoch : 8200, loss : 0.00031\n",
      "Epoch : 8400, loss : 0.00028\n",
      "Epoch : 8600, loss : 0.00031\n",
      "Epoch : 8800, loss : 0.00025\n",
      "Epoch : 9000, loss : 0.00024\n",
      "Epoch : 9200, loss : 0.00022\n",
      "Epoch : 9400, loss : 0.00024\n",
      "Epoch : 9600, loss : 0.00033\n",
      "Epoch : 9800, loss : 0.00021\n"
     ]
    }
   ],
   "source": [
    "# Code Main\n",
    "\n",
    "num_epochs = 10000\n",
    "\n",
    "learning_rate = 0.001\n",
    "\n",
    "input_size = int(len(x.columns))\n",
    "\n",
    "hidden_size = 2 # number of features in hidden state\n",
    "\n",
    "num_layers = 1\n",
    "\n",
    "num_classes = int(len(y.columns))\n",
    "\n",
    " \n",
    "\n",
    "LSTM_Jun = LSTM_Jun(num_classes, input_size, hidden_size, num_layers, train_x_tensor_final.shape[1]).to(device)\n",
    "\n",
    " \n",
    "\n",
    "loss_function = torch.nn.MSELoss()\n",
    "\n",
    "optimizer = torch.optim.Adam(LSTM_Jun.parameters(), lr = learning_rate)\n",
    "\n",
    " \n",
    "\n",
    "for epoch in range(num_epochs) : \n",
    "\n",
    "    outputs = LSTM_Jun.forward(train_x_tensor_final.to(device))\n",
    "\n",
    "    optimizer.zero_grad()\n",
    "\n",
    "    loss = loss_function(outputs, train_y_tensor.to(device))\n",
    "\n",
    "    loss.backward()\n",
    "\n",
    "    optimizer.step() # improve from loss = back propagation\n",
    "\n",
    "    if epoch % 200 == 0 :\n",
    "\n",
    "        print(\"Epoch : %d, loss : %1.5f\" % (epoch, loss.item()))\n",
    "\n",
    " "
   ]
  },
  {
   "cell_type": "code",
   "execution_count": 13,
   "id": "7191c7ea",
   "metadata": {},
   "outputs": [],
   "source": [
    "# Estimated Value\n",
    "\n",
    "test_predict = LSTM_Jun(train_x_tensor_final.to(device)) #Forward Pass\n",
    "\n",
    "predict_data = test_predict.data.detach().cpu().numpy() #numpy conversion\n",
    "\n",
    "predict_data = minmax.inverse_transform(predict_data) #inverse normalization(Min/Max)"
   ]
  },
  {
   "cell_type": "code",
   "execution_count": 14,
   "id": "b2f0f0fb",
   "metadata": {},
   "outputs": [],
   "source": [
    "# Real Value\n",
    "\n",
    "real_data = train_y_tensor.data.numpy() # Real value\n",
    "\n",
    "real_data = minmax.inverse_transform(real_data) #inverse normalization "
   ]
  },
  {
   "cell_type": "code",
   "execution_count": 15,
   "id": "eaac7358",
   "metadata": {},
   "outputs": [
    {
     "data": {
      "image/png": "[encoded data removed]",
      "text/plain": [
       "<Figure size 720x432 with 1 Axes>"
      ]
     },
     "metadata": {
      "needs_background": "light"
     },
     "output_type": "display_data"
    }
   ],
   "source": [
    "#Figure\n",
    "\n",
    "plt.figure(figsize = (10,6)) # Plotting\n",
    "plt.plot(real_data, label = 'Real Data')\n",
    "plt.plot(predict_data, label = 'predicted data')\n",
    "plt.title('Time series prediction')\n",
    "plt.legend()\n",
    "plt.show()"
   ]
  },
  {
   "cell_type": "code",
   "execution_count": null,
   "id": "c004d290",
   "metadata": {},
   "outputs": [],
   "source": []
  },
  {
   "cell_type": "code",
   "execution_count": null,
   "id": "b7459713",
   "metadata": {},
   "outputs": [],
   "source": []
  },
  {
   "cell_type": "code",
   "execution_count": null,
   "id": "6042313b",
   "metadata": {},
   "outputs": [],
   "source": []
  },
  {
   "cell_type": "code",
   "execution_count": null,
   "id": "617d8876",
   "metadata": {},
   "outputs": [],
   "source": []
  },
  {
   "cell_type": "code",
   "execution_count": null,
   "id": "c23b55b7",
   "metadata": {},
   "outputs": [],
   "source": []
  },
  {
   "cell_type": "code",
   "execution_count": null,
   "id": "19953708",
   "metadata": {},
   "outputs": [],
   "source": []
  },
  {
   "cell_type": "code",
   "execution_count": null,
   "id": "2f86b492",
   "metadata": {},
   "outputs": [],
   "source": []
  },
  {
   "cell_type": "code",
   "execution_count": null,
   "id": "78af239f",
   "metadata": {},
   "outputs": [],
   "source": []
  },
  {
   "cell_type": "code",
   "execution_count": null,
   "id": "7de0b97e",
   "metadata": {},
   "outputs": [],
   "source": []
  },
  {
   "cell_type": "code",
   "execution_count": null,
   "id": "d3153299",
   "metadata": {},
   "outputs": [],
   "source": []
  },
  {
   "cell_type": "code",
   "execution_count": null,
   "id": "e5c6595c",
   "metadata": {},
   "outputs": [],
   "source": []
  },
  {
   "cell_type": "code",
   "execution_count": null,
   "id": "47172bba",
   "metadata": {},
   "outputs": [],
   "source": []
  },
  {
   "cell_type": "code",
   "execution_count": null,
   "id": "06ee2345",
   "metadata": {},
   "outputs": [],
   "source": []
  },
  {
   "cell_type": "code",
   "execution_count": null,
   "id": "7d0cabdc",
   "metadata": {},
   "outputs": [],
   "source": []
  },
  {
   "cell_type": "code",
   "execution_count": null,
   "id": "95b44d1d",
   "metadata": {},
   "outputs": [],
   "source": []
  },
  {
   "cell_type": "code",
   "execution_count": null,
   "id": "591e4d72",
   "metadata": {},
   "outputs": [],
   "source": []
  },
  {
   "cell_type": "code",
   "execution_count": null,
   "id": "7a2d3678",
   "metadata": {},
   "outputs": [],
   "source": []
  },
  {
   "cell_type": "code",
   "execution_count": null,
   "id": "c578cc2f",
   "metadata": {},
   "outputs": [],
   "source": []
  },
  {
   "cell_type": "code",
   "execution_count": null,
   "id": "b75155a8",
   "metadata": {},
   "outputs": [],
   "source": []
  },
  {
   "cell_type": "code",
   "execution_count": null,
   "id": "72b44b74",
   "metadata": {},
   "outputs": [],
   "source": []
  },
  {
   "cell_type": "code",
   "execution_count": null,
   "id": "27b10afe",
   "metadata": {},
   "outputs": [],
   "source": []
  },
  {
   "cell_type": "code",
   "execution_count": null,
   "id": "6485f438",
   "metadata": {},
   "outputs": [],
   "source": []
  },
  {
   "cell_type": "code",
   "execution_count": null,
   "id": "e5390eb0",
   "metadata": {},
   "outputs": [],
   "source": []
  },
  {
   "cell_type": "code",
   "execution_count": null,
   "id": "8e993a6f",
   "metadata": {},
   "outputs": [],
   "source": []
  },
  {
   "cell_type": "code",
   "execution_count": null,
   "id": "030da79b",
   "metadata": {},
   "outputs": [],
   "source": []
  },
  {
   "cell_type": "code",
   "execution_count": null,
   "id": "1f3b0c09",
   "metadata": {},
   "outputs": [],
   "source": []
  },
  {
   "cell_type": "code",
   "execution_count": null,
   "id": "2c84eb43",
   "metadata": {},
   "outputs": [],
   "source": []
  }
 ],
 "metadata": {
  "kernelspec": {
   "display_name": "Python 3 (ipykernel)",
   "language": "python",
   "name": "python3"
  },
  "language_info": {
   "codemirror_mode": {
    "name": "ipython",
    "version": 3
   },
   "file_extension": ".py",
   "mimetype": "text/x-python",
   "name": "python",
   "nbconvert_exporter": "python",
   "pygments_lexer": "ipython3",
   "version": "3.9.7"
  }
 },
 "nbformat": 4,
 "nbformat_minor": 5
}
